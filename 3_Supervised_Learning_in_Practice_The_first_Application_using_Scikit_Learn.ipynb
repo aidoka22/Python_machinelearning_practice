{
  "cells": [
    {
      "cell_type": "markdown",
      "metadata": {
        "id": "view-in-github",
        "colab_type": "text"
      },
      "source": [
        "<a href=\"https://colab.research.google.com/github/aidoka22/Python_machinelearning_practice/blob/main/3_Supervised_Learning_in_Practice_The_first_Application_using_Scikit_Learn.ipynb\" target=\"_parent\"><img src=\"https://colab.research.google.com/assets/colab-badge.svg\" alt=\"Open In Colab\"/></a>"
      ]
    },
    {
      "cell_type": "markdown",
      "metadata": {
        "id": "LJOCTvvhrmU6"
      },
      "source": [
        "\"\"\"\"\"\"\"\"\"\"\"\"\"\"\"\"\"\"\"\"\"\"\"\"\"\"\"\"\"\"\"\"\"\"\"\"\"\"\"\"\"\"\"\"\"\"\"\"\"\"\"\"\"\"\"\"\"\"\"\"\"<br>\n",
        " Author: Amin Zollanvari, Ph.D.                            <br>\n",
        " Date: Feb, 6, 2024                                       <br>\n",
        "\"\"\"\"\"\"\"\"\"\"\"\"\"\"\"\"\"\"\"\"\"\"\"\"\"\"\"\"\"\"\"\"\"\"\"\"\"\"\"\"\"\"\"\"\"\"\"\"\"\"\"\"\"\"\"\"\"\"\"\"\"<br>"
      ]
    },
    {
      "cell_type": "markdown",
      "metadata": {
        "id": "tlZGCCxLrmU7"
      },
      "source": [
        "# 3. Supervised Learning in Practice: The first Application using Scikit-Learn"
      ]
    },
    {
      "cell_type": "markdown",
      "metadata": {
        "id": "uBbK-blTrmU7"
      },
      "source": [
        "## 3.1 Supervised Learning"
      ]
    },
    {
      "cell_type": "markdown",
      "metadata": {
        "id": "pUpEn5YLrmU7"
      },
      "source": [
        "There are two common types of supervised learning: *classification* and *regression*. To formalize the idea of classification and regression, suppose you have a set of training data $\\mathcal{S}_{tr}=\\{(\\mathbf{x}_1, y_1), (\\mathbf{x}_2, y_2), ..., (\\mathbf{x}_n, y_n)\\}$ where $\\mathbf{x}_i \\in \\mathbb{R}^p, i=1,...,n$ represents a vector including the values of $p$ feature variables (feature vector), $y_i$ denotes the target value (outcome) associated with $\\mathbf{x}_i$, and $n$ is the number of observations (i.e., sample size) in the training data. In *classification*, $y_i$s are a set of predefined finite categories called *labels* and the goal is to assign a given feature vector to one of the class labels (in some applications known as *multilabel classification*, multiple labels are assigned to one class). In *regression*, on the other hand, $y_i$s represent a set of real numbers and the goal is to estimate the target value for a given feature vector. Whether the problem is classification or regression, the goal is to *estimate* the value of the target $y$ for a given feature vector $\\mathbf{x}$. In machine learning and pattern recognition, we refer to this estimation problem as *prediction*; that is, predicting $y$ for a given $\\mathbf{x}$. At the same time, we refer to the mathematical function that performs this mapping as *classifier* or *regressor* in classification and regression problems, respectively. At the same time, the procedure for constructing the classifier/regressor is referred to as classification/regression *rule*. Therefore, a classifier, for example, is the outcome of a classification rule."
      ]
    },
    {
      "cell_type": "markdown",
      "metadata": {
        "id": "n6Ebi0C_rmU8"
      },
      "source": [
        "<img align=\"left\" src=\"images/tip.png\" alt=\"drawing\" width=\"140\"/><br>\n",
        "\n",
        "The the literal meaning of \"regression\" means \"a return to a former state\". While there is no ambiguity on why we refer to a classification problem as \"classification, you may wonder why a regression problem is referred to as \"regression\". To see the answer check this out: https://en.wikipedia.org/wiki/Regression_toward_the_mean"
      ]
    },
    {
      "cell_type": "markdown",
      "metadata": {
        "id": "G-EmfwwhrmU8"
      },
      "source": [
        "## 3.2 Scikit-Learn"
      ]
    },
    {
      "cell_type": "markdown",
      "metadata": {
        "id": "PaqKnzu-rmU8"
      },
      "source": [
        "Scikit-Learn is a Python package that contains efficient and uniform API to implement many machine learning (ML) methods. Three fundamental objects in scikit-learn are Estimators, Transformers, and Predictors:"
      ]
    },
    {
      "cell_type": "markdown",
      "metadata": {
        "id": "Bu2bDAZ9rmU8"
      },
      "source": [
        "**Estimators**:\n",
        "<a id='sklearn'></a>\n",
        "Any object that can estimate some parameters based on a dataset is called an ``estimator``. For example,  all machine learning models whether classifiers or regressors are implemented in their own ``Estimator`` class. For example, a ML algorithm known as *K*-nearest neigbors (KNN) rule is implemented in the ``KNeighborsClassifier`` class in the ``neighbors`` module. Or another algorithm known as perceptron is implemented in the ``Perceptron`` class in the ``linear_model`` module.\n",
        "\n",
        "All estimators implement the ``fit()`` method that takes either one parameter (data) or two as in supervise learning where the second parameter is the target values:\n",
        "\n",
        "``estimator.fit(data, targets)``\n",
        "\n",
        "or\n",
        "\n",
        "``estimator.fit(data)``\n",
        "\n",
        "The ``fit()`` method performs the estimation itself; that is, to learn some parameters from the data."
      ]
    },
    {
      "cell_type": "markdown",
      "metadata": {
        "id": "0-jnwtY6rmU9"
      },
      "source": [
        "**Transformers**:\n",
        "\n",
        "Some estimators can also transform the data. These estimators are known as transformers and implement ``transform()`` method to perform the transformation of the data as:\n",
        "\n",
        "``new_data = transformer.transform(data)``\n",
        "\n",
        "Transformers also implement a convenient method known as ``fit_transform()``, which is similar (sometimes more efficient) to calling ``fit()`` and ``transform()`` back-to-back:\n",
        "\n",
        "``new_data = transformer.fit_transform(data)``"
      ]
    },
    {
      "cell_type": "markdown",
      "metadata": {
        "id": "P6EBcUwrrmU9"
      },
      "source": [
        "**Predictors**:\n",
        "\n",
        "Some estimators can make predictions given a data. These estimators are known as predictors and implement ``predict()`` method to perform the prediction:\n",
        "\n",
        "``prediction = predictor.predict(data)``\n",
        "\n",
        "Classification algorithms generally also implement\n",
        "\n",
        "``probability = predictor.predict_proba(data)``\n",
        "\n",
        "that provides a way to quantify the certainty of a prediction for a given data."
      ]
    },
    {
      "cell_type": "markdown",
      "metadata": {
        "id": "qAiDGy_krmU9"
      },
      "source": [
        "## 3.3 The Problem: Iris Flower Classification"
      ]
    },
    {
      "cell_type": "markdown",
      "metadata": {
        "id": "vbb_1cbermU9"
      },
      "source": [
        "In this application, we would like to train a ML rule that recieves a feature vector containing morphologic measurements (length and width of petals and sepals in centimeters) of Iris flowers and classify, if possible, the feature vector to one of three Iris flower species: Iris setosa, Iris virginica, or Iris versicolor (see Figure 1)."
      ]
    },
    {
      "cell_type": "markdown",
      "metadata": {
        "id": "_jsWmA_vrmU9"
      },
      "source": [
        " <img align=\"top\" src=\"images/S3_fig1.png\" alt=\"drawing\" width=\"440\"/><br>"
      ]
    },
    {
      "cell_type": "markdown",
      "metadata": {
        "id": "2EMQa9ZcrmU9"
      },
      "source": [
        "Figure 1: An Iris flower, sepal, and petal. The hypothesis in this example is that an Iris flower can be classified into its speciies based on its petal and sepal length and width."
      ]
    },
    {
      "cell_type": "markdown",
      "metadata": {
        "id": "gPjYfPf7rmU9"
      },
      "source": [
        "Therefore, our feature vectors $\\mathbf{x}_i$ that are part of training data are four dimensional ($p=4$) and $y$ can take three values; therefore, we have a multiclass (three-class) classification problem.\n",
        "\n",
        "For that we use a well-known dataset in statistics and machine learning, known as *Iris dataset* that was collected by one of the most famous biologist-statistician of 20th century, Ronald Fisher (for more information about this dataset, see https://en.wikipedia.org/wiki/Iris_flower_data_set). This dataset is already part of scikit-learn and can be accessed by importing its ``datasets`` module as follows:"
      ]
    },
    {
      "cell_type": "code",
      "execution_count": 2,
      "metadata": {
        "colab": {
          "base_uri": "https://localhost:8080/",
          "height": 185
        },
        "id": "i-15PxD9rmU9",
        "outputId": "2355c263-b475-44e7-fc28-c65a0a285039"
      },
      "outputs": [
        {
          "output_type": "execute_result",
          "data": {
            "text/plain": [
              "sklearn.utils._bunch.Bunch"
            ],
            "text/html": [
              "<div style=\"max-width:800px; border: 1px solid var(--colab-border-color);\"><style>\n",
              "      pre.function-repr-contents {\n",
              "        overflow-x: auto;\n",
              "        padding: 8px 12px;\n",
              "        max-height: 500px;\n",
              "      }\n",
              "\n",
              "      pre.function-repr-contents.function-repr-contents-collapsed {\n",
              "        cursor: pointer;\n",
              "        max-height: 100px;\n",
              "      }\n",
              "    </style>\n",
              "    <pre style=\"white-space: initial; background:\n",
              "         var(--colab-secondary-surface-color); padding: 8px 12px;\n",
              "         border-bottom: 1px solid var(--colab-border-color);\"><b>sklearn.utils._bunch.Bunch</b><br/>def __init__(**kwargs)</pre><pre class=\"function-repr-contents function-repr-contents-collapsed\" style=\"\"><a class=\"filepath\" style=\"display:none\" href=\"#\">/usr/local/lib/python3.10/dist-packages/sklearn/utils/_bunch.py</a>Container object exposing keys as attributes.\n",
              "\n",
              "Bunch objects are sometimes used as an output for functions and methods.\n",
              "They extend dictionaries by enabling values to be accessed by key,\n",
              "`bunch[&quot;value_key&quot;]`, or by an attribute, `bunch.value_key`.\n",
              "\n",
              "Examples\n",
              "--------\n",
              "&gt;&gt;&gt; from sklearn.utils import Bunch\n",
              "&gt;&gt;&gt; b = Bunch(a=1, b=2)\n",
              "&gt;&gt;&gt; b[&#x27;b&#x27;]\n",
              "2\n",
              "&gt;&gt;&gt; b.b\n",
              "2\n",
              "&gt;&gt;&gt; b.a = 3\n",
              "&gt;&gt;&gt; b[&#x27;a&#x27;]\n",
              "3\n",
              "&gt;&gt;&gt; b.c = 6\n",
              "&gt;&gt;&gt; b[&#x27;c&#x27;]\n",
              "6</pre>\n",
              "      <script>\n",
              "      if (google.colab.kernel.accessAllowed && google.colab.files && google.colab.files.view) {\n",
              "        for (const element of document.querySelectorAll('.filepath')) {\n",
              "          element.style.display = 'block'\n",
              "          element.onclick = (event) => {\n",
              "            event.preventDefault();\n",
              "            event.stopPropagation();\n",
              "            google.colab.files.view(element.textContent, 4);\n",
              "          };\n",
              "        }\n",
              "      }\n",
              "      for (const element of document.querySelectorAll('.function-repr-contents')) {\n",
              "        element.onclick = (event) => {\n",
              "          event.preventDefault();\n",
              "          event.stopPropagation();\n",
              "          element.classList.toggle('function-repr-contents-collapsed');\n",
              "        };\n",
              "      }\n",
              "      </script>\n",
              "      </div>"
            ]
          },
          "metadata": {},
          "execution_count": 2
        }
      ],
      "source": [
        "from sklearn import datasets # sklearn is the Python name of ,!scikit-learn\n",
        "iris = datasets.load_iris()\n",
        "type(iris)"
      ]
    },
    {
      "cell_type": "markdown",
      "metadata": {
        "id": "hC44TNYMrmU-"
      },
      "source": [
        "Datasets that are part of scikit-learn are generally stored as ``Bunch`` objects. This is an object that contains the actual data as well as some information about it. All these information are stored in ``Bunch`` objects similar to dictionaries; that is, using ``keys`` and ``values``. Similar to dictionaries, we can use ``key()`` method to see all keys in a ``Bunch`` object:"
      ]
    },
    {
      "cell_type": "code",
      "execution_count": 3,
      "metadata": {
        "colab": {
          "base_uri": "https://localhost:8080/"
        },
        "id": "pyaDw9hNrmU-",
        "outputId": "ba9fefef-f5d0-4e84-f1a7-c70883313328"
      },
      "outputs": [
        {
          "output_type": "execute_result",
          "data": {
            "text/plain": [
              "dict_keys(['data', 'target', 'frame', 'target_names', 'DESCR', 'feature_names', 'filename', 'data_module'])"
            ]
          },
          "metadata": {},
          "execution_count": 3
        }
      ],
      "source": [
        "iris.keys()"
      ]
    },
    {
      "cell_type": "markdown",
      "metadata": {
        "id": "bdqlT9EZrmU-"
      },
      "source": [
        "The value of the key ``DESCR`` gives some brief information about the dataset. Nevertheless, ``Bunch`` object privides an additional benefit that we can also access values as ``bunch.key`` (or, equivalnetly, as in dictionaries by ``bunch['key']``). Here we just print the first 500 characters in the ``DESCR`` field:"
      ]
    },
    {
      "cell_type": "code",
      "execution_count": 4,
      "metadata": {
        "colab": {
          "base_uri": "https://localhost:8080/"
        },
        "id": "cFbN6e8frmU-",
        "outputId": "97a759b5-7ad8-4f56-f69c-fadcab6010d8"
      },
      "outputs": [
        {
          "output_type": "stream",
          "name": "stdout",
          "text": [
            ".. _iris_dataset:\n",
            "\n",
            "Iris plants dataset\n",
            "--------------------\n",
            "\n",
            "**Data Set Characteristics:**\n",
            "\n",
            "    :Number of Instances: 150 (50 in each of three classes)\n",
            "    :Number of Attributes: 4 numeric, predictive attributes and the class\n",
            "    :Attribute Information:\n",
            "        - sepal length in cm\n",
            "        - sepal width in cm\n",
            "        - petal length in cm\n",
            "        - petal width in cm\n",
            "        - class:\n",
            "                - Iris-Setosa\n",
            "                - Iris-Versicolour\n",
            "                - Iris-Virginica\n",
            "                \n",
            "\n"
          ]
        }
      ],
      "source": [
        "print(iris.DESCR[:500])"
      ]
    },
    {
      "cell_type": "markdown",
      "metadata": {
        "id": "R9iiPlJzrmU-"
      },
      "source": [
        "All measurements (i.e., feature vectors) are stored as values of ``data`` key with the corresponding classes being stored in ``target`` field as NumPy arrays:"
      ]
    },
    {
      "cell_type": "code",
      "execution_count": 5,
      "metadata": {
        "colab": {
          "base_uri": "https://localhost:8080/"
        },
        "id": "-8qlwuO2rmU-",
        "outputId": "f000ddfd-d59b-4f35-8b59-d2e524e3af4b"
      },
      "outputs": [
        {
          "output_type": "execute_result",
          "data": {
            "text/plain": [
              "array([[5.4, 3.7, 1.5, 0.2],\n",
              "       [4.8, 3.4, 1.6, 0.2],\n",
              "       [4.8, 3. , 1.4, 0.1],\n",
              "       [4.3, 3. , 1.1, 0.1],\n",
              "       [5.8, 4. , 1.2, 0.2],\n",
              "       [5.7, 4.4, 1.5, 0.4],\n",
              "       [5.4, 3.9, 1.3, 0.4],\n",
              "       [5.1, 3.5, 1.4, 0.3],\n",
              "       [5.7, 3.8, 1.7, 0.3],\n",
              "       [5.1, 3.8, 1.5, 0.3],\n",
              "       [5.4, 3.4, 1.7, 0.2],\n",
              "       [5.1, 3.7, 1.5, 0.4],\n",
              "       [4.6, 3.6, 1. , 0.2],\n",
              "       [5.1, 3.3, 1.7, 0.5],\n",
              "       [4.8, 3.4, 1.9, 0.2],\n",
              "       [5. , 3. , 1.6, 0.2],\n",
              "       [5. , 3.4, 1.6, 0.4],\n",
              "       [5.2, 3.5, 1.5, 0.2],\n",
              "       [5.2, 3.4, 1.4, 0.2],\n",
              "       [4.7, 3.2, 1.6, 0.2],\n",
              "       [4.8, 3.1, 1.6, 0.2],\n",
              "       [5.4, 3.4, 1.5, 0.4],\n",
              "       [5.2, 4.1, 1.5, 0.1],\n",
              "       [5.5, 4.2, 1.4, 0.2],\n",
              "       [4.9, 3.1, 1.5, 0.2],\n",
              "       [5. , 3.2, 1.2, 0.2],\n",
              "       [5.5, 3.5, 1.3, 0.2],\n",
              "       [4.9, 3.6, 1.4, 0.1],\n",
              "       [4.4, 3. , 1.3, 0.2],\n",
              "       [5.1, 3.4, 1.5, 0.2],\n",
              "       [5. , 3.5, 1.3, 0.3],\n",
              "       [4.5, 2.3, 1.3, 0.3],\n",
              "       [4.4, 3.2, 1.3, 0.2],\n",
              "       [5. , 3.5, 1.6, 0.6],\n",
              "       [5.1, 3.8, 1.9, 0.4],\n",
              "       [4.8, 3. , 1.4, 0.3],\n",
              "       [5.1, 3.8, 1.6, 0.2],\n",
              "       [4.6, 3.2, 1.4, 0.2],\n",
              "       [5.3, 3.7, 1.5, 0.2],\n",
              "       [5. , 3.3, 1.4, 0.2],\n",
              "       [7. , 3.2, 4.7, 1.4],\n",
              "       [6.4, 3.2, 4.5, 1.5],\n",
              "       [6.9, 3.1, 4.9, 1.5],\n",
              "       [5.5, 2.3, 4. , 1.3],\n",
              "       [6.5, 2.8, 4.6, 1.5],\n",
              "       [5.7, 2.8, 4.5, 1.3],\n",
              "       [6.3, 3.3, 4.7, 1.6],\n",
              "       [4.9, 2.4, 3.3, 1. ],\n",
              "       [6.6, 2.9, 4.6, 1.3],\n",
              "       [5.2, 2.7, 3.9, 1.4],\n",
              "       [5. , 2. , 3.5, 1. ],\n",
              "       [5.9, 3. , 4.2, 1.5],\n",
              "       [6. , 2.2, 4. , 1. ],\n",
              "       [6.1, 2.9, 4.7, 1.4],\n",
              "       [5.6, 2.9, 3.6, 1.3],\n",
              "       [6.7, 3.1, 4.4, 1.4],\n",
              "       [5.6, 3. , 4.5, 1.5],\n",
              "       [5.8, 2.7, 4.1, 1. ],\n",
              "       [6.2, 2.2, 4.5, 1.5],\n",
              "       [5.6, 2.5, 3.9, 1.1],\n",
              "       [5.9, 3.2, 4.8, 1.8],\n",
              "       [6.1, 2.8, 4. , 1.3],\n",
              "       [6.3, 2.5, 4.9, 1.5],\n",
              "       [6.1, 2.8, 4.7, 1.2],\n",
              "       [6.4, 2.9, 4.3, 1.3],\n",
              "       [6.6, 3. , 4.4, 1.4],\n",
              "       [6.8, 2.8, 4.8, 1.4],\n",
              "       [6.7, 3. , 5. , 1.7],\n",
              "       [6. , 2.9, 4.5, 1.5],\n",
              "       [5.7, 2.6, 3.5, 1. ],\n",
              "       [5.5, 2.4, 3.8, 1.1],\n",
              "       [5.5, 2.4, 3.7, 1. ],\n",
              "       [5.8, 2.7, 3.9, 1.2],\n",
              "       [6. , 2.7, 5.1, 1.6],\n",
              "       [5.4, 3. , 4.5, 1.5],\n",
              "       [6. , 3.4, 4.5, 1.6],\n",
              "       [6.7, 3.1, 4.7, 1.5],\n",
              "       [6.3, 2.3, 4.4, 1.3],\n",
              "       [5.6, 3. , 4.1, 1.3],\n",
              "       [5.5, 2.5, 4. , 1.3],\n",
              "       [5.5, 2.6, 4.4, 1.2],\n",
              "       [6.1, 3. , 4.6, 1.4],\n",
              "       [5.8, 2.6, 4. , 1.2],\n",
              "       [5. , 2.3, 3.3, 1. ],\n",
              "       [5.6, 2.7, 4.2, 1.3],\n",
              "       [5.7, 3. , 4.2, 1.2],\n",
              "       [5.7, 2.9, 4.2, 1.3],\n",
              "       [6.2, 2.9, 4.3, 1.3],\n",
              "       [5.1, 2.5, 3. , 1.1],\n",
              "       [5.7, 2.8, 4.1, 1.3],\n",
              "       [6.3, 3.3, 6. , 2.5],\n",
              "       [5.8, 2.7, 5.1, 1.9],\n",
              "       [7.1, 3. , 5.9, 2.1],\n",
              "       [6.3, 2.9, 5.6, 1.8],\n",
              "       [6.5, 3. , 5.8, 2.2],\n",
              "       [7.6, 3. , 6.6, 2.1],\n",
              "       [4.9, 2.5, 4.5, 1.7],\n",
              "       [7.3, 2.9, 6.3, 1.8],\n",
              "       [6.7, 2.5, 5.8, 1.8],\n",
              "       [7.2, 3.6, 6.1, 2.5],\n",
              "       [6.5, 3.2, 5.1, 2. ],\n",
              "       [6.4, 2.7, 5.3, 1.9],\n",
              "       [6.8, 3. , 5.5, 2.1],\n",
              "       [5.7, 2.5, 5. , 2. ],\n",
              "       [5.8, 2.8, 5.1, 2.4],\n",
              "       [6.4, 3.2, 5.3, 2.3],\n",
              "       [6.5, 3. , 5.5, 1.8],\n",
              "       [7.7, 3.8, 6.7, 2.2],\n",
              "       [7.7, 2.6, 6.9, 2.3],\n",
              "       [6. , 2.2, 5. , 1.5],\n",
              "       [6.9, 3.2, 5.7, 2.3],\n",
              "       [5.6, 2.8, 4.9, 2. ],\n",
              "       [7.7, 2.8, 6.7, 2. ],\n",
              "       [6.3, 2.7, 4.9, 1.8],\n",
              "       [6.7, 3.3, 5.7, 2.1],\n",
              "       [7.2, 3.2, 6. , 1.8],\n",
              "       [6.2, 2.8, 4.8, 1.8],\n",
              "       [6.1, 3. , 4.9, 1.8],\n",
              "       [6.4, 2.8, 5.6, 2.1],\n",
              "       [7.2, 3. , 5.8, 1.6],\n",
              "       [7.4, 2.8, 6.1, 1.9],\n",
              "       [7.9, 3.8, 6.4, 2. ],\n",
              "       [6.4, 2.8, 5.6, 2.2],\n",
              "       [6.3, 2.8, 5.1, 1.5],\n",
              "       [6.1, 2.6, 5.6, 1.4],\n",
              "       [7.7, 3. , 6.1, 2.3],\n",
              "       [6.3, 3.4, 5.6, 2.4],\n",
              "       [6.4, 3.1, 5.5, 1.8],\n",
              "       [6. , 3. , 4.8, 1.8],\n",
              "       [6.9, 3.1, 5.4, 2.1],\n",
              "       [6.7, 3.1, 5.6, 2.4],\n",
              "       [6.9, 3.1, 5.1, 2.3],\n",
              "       [5.8, 2.7, 5.1, 1.9],\n",
              "       [6.8, 3.2, 5.9, 2.3],\n",
              "       [6.7, 3.3, 5.7, 2.5],\n",
              "       [6.7, 3. , 5.2, 2.3],\n",
              "       [6.3, 2.5, 5. , 1.9],\n",
              "       [6.5, 3. , 5.2, 2. ],\n",
              "       [6.2, 3.4, 5.4, 2.3],\n",
              "       [5.9, 3. , 5.1, 1.8]])"
            ]
          },
          "metadata": {},
          "execution_count": 5
        }
      ],
      "source": [
        "iris.data[10:]"
      ]
    },
    {
      "cell_type": "markdown",
      "metadata": {
        "id": "k2_ONVRMrmU-"
      },
      "source": [
        "We refer to the matrix containing all feature vectors as ``data matrix`` (also known as ``feature matrix``). By convention, scikit-learn assumes this matrix has the shape of sample size $\\times$ feature size; that is, the number of observations (also sometimes referred to as the number of samples) $\\times$ the number of features. For example, in this data there were 150 Iris flowers and for each there were 4 features; therefore, the shape is 150 $\\times$ 4:"
      ]
    },
    {
      "cell_type": "code",
      "execution_count": null,
      "metadata": {
        "id": "5esdFzKqrmU-",
        "outputId": "ddb2821e-ba29-47bb-99a5-dc81f42b8a80"
      },
      "outputs": [
        {
          "data": {
            "text/plain": [
              "(150, 4)"
            ]
          },
          "execution_count": 5,
          "metadata": {},
          "output_type": "execute_result"
        }
      ],
      "source": [
        "iris.data.shape"
      ]
    },
    {
      "cell_type": "code",
      "execution_count": null,
      "metadata": {
        "id": "CzdfOknUrmU_",
        "outputId": "852c3fec-4f06-4f5b-c4fb-051be2ffd37a"
      },
      "outputs": [
        {
          "data": {
            "text/plain": [
              "array([0, 0, 0, 0, 0, 0, 0, 0, 0, 0, 0, 0, 0, 0, 0, 0, 0, 0, 0, 0, 0, 0,\n",
              "       0, 0, 0, 0, 0, 0, 0, 0, 0, 0, 0, 0, 0, 0, 0, 0, 0, 0, 0, 0, 0, 0,\n",
              "       0, 0, 0, 0, 0, 0, 1, 1, 1, 1, 1, 1, 1, 1, 1, 1, 1, 1, 1, 1, 1, 1,\n",
              "       1, 1, 1, 1, 1, 1, 1, 1, 1, 1, 1, 1, 1, 1, 1, 1, 1, 1, 1, 1, 1, 1,\n",
              "       1, 1, 1, 1, 1, 1, 1, 1, 1, 1, 1, 1, 2, 2, 2, 2, 2, 2, 2, 2, 2, 2,\n",
              "       2, 2, 2, 2, 2, 2, 2, 2, 2, 2, 2, 2, 2, 2, 2, 2, 2, 2, 2, 2, 2, 2,\n",
              "       2, 2, 2, 2, 2, 2, 2, 2, 2, 2, 2, 2, 2, 2, 2, 2, 2, 2])"
            ]
          },
          "execution_count": 6,
          "metadata": {},
          "output_type": "execute_result"
        }
      ],
      "source": [
        "iris.target"
      ]
    },
    {
      "cell_type": "markdown",
      "metadata": {
        "id": "jiSjlzIMrmU_"
      },
      "source": [
        "The three classes in the dataset, namely, setosa, versicolor, and virginica are integer encoded as 0, 1, and 2, respectively. Integer encoding of feature vectors and even labels is a common practice. For the feature vectors this is generally needed as many machine learning methods are designed to work with numeric data. For the labels, at least this uses less memory."
      ]
    },
    {
      "cell_type": "code",
      "execution_count": null,
      "metadata": {
        "id": "vWU_jXefrmU_",
        "outputId": "4a07d6b9-11d5-4aea-a607-b7c3c5b39b23"
      },
      "outputs": [
        {
          "name": "stdout",
          "output_type": "stream",
          "text": [
            "['setosa' 'versicolor' 'virginica']\n"
          ]
        }
      ],
      "source": [
        "print(iris['target_names']) # or, equivalently, print(iris.target_names)"
      ]
    },
    {
      "cell_type": "markdown",
      "metadata": {
        "id": "2wsf5qcmrmU_"
      },
      "source": [
        "Here we use ``bincount`` function from NumPy to count the number of samples in each class:"
      ]
    },
    {
      "cell_type": "code",
      "execution_count": null,
      "metadata": {
        "id": "NPbBilHmrmU_",
        "outputId": "9aea5b29-da35-4ec9-8ef7-0485166dc66b"
      },
      "outputs": [
        {
          "data": {
            "text/plain": [
              "array([50, 50, 50])"
            ]
          },
          "execution_count": 8,
          "metadata": {},
          "output_type": "execute_result"
        }
      ],
      "source": [
        "import numpy as np\n",
        "np.bincount(iris.target)"
      ]
    },
    {
      "cell_type": "code",
      "execution_count": null,
      "metadata": {
        "id": "sjeFkANNrmU_",
        "outputId": "1f35ffff-2a57-436c-bc0b-92269bc4a2c7"
      },
      "outputs": [
        {
          "name": "stdout",
          "output_type": "stream",
          "text": [
            "type of data: <class 'numpy.ndarray'>\n",
            "type of target: <class 'numpy.ndarray'>\n"
          ]
        }
      ],
      "source": [
        "print('type of data: ' + str(type(iris.data))+ '\\ntype of target: ' + str(type(iris.target)))"
      ]
    },
    {
      "cell_type": "code",
      "execution_count": null,
      "metadata": {
        "id": "3ajb3SePrmU_",
        "outputId": "89d2399b-d796-41ba-d542-6463dd0f75b3"
      },
      "outputs": [
        {
          "name": "stdout",
          "output_type": "stream",
          "text": [
            "['sepal length (cm)', 'sepal width (cm)', 'petal length (cm)', 'petal width (cm)']\n"
          ]
        }
      ],
      "source": [
        "print(iris.feature_names) # the name of features"
      ]
    },
    {
      "cell_type": "markdown",
      "metadata": {
        "id": "0qdU5-W5rmU_"
      },
      "source": [
        "## 3.4 Test Set for Model Assessment"
      ]
    },
    {
      "cell_type": "markdown",
      "metadata": {
        "id": "acgYRE-ErmU_"
      },
      "source": [
        "Before training a machime learning model here, we need to think a bit in advance. Let's say you train a model based on the data. How good is your model? This is a critical question that shows the predictive capacity of the trained model."
      ]
    },
    {
      "cell_type": "markdown",
      "metadata": {
        "id": "_NBKy9QlrmU_"
      },
      "source": [
        "Perhaps the most intuitive one is to assess the performance of the trained model on a set of data that is unseen during the training process. This is known as *test set* or *test data*. However, here we only have one dataset. Therefore, to create a test data, we split the data into training (used to train the model) and hold out the rest as test data, also known as holdout set (used to assess the trained model)."
      ]
    },
    {
      "cell_type": "markdown",
      "metadata": {
        "id": "rLC3YKxirmU_"
      },
      "source": [
        "To split the data, we can use ``train_test_split`` function from scikit-learn ``model_selection`` module. Just google ``train_test_split`` and see the documentation:\n",
        "\n",
        "https://scikit-learn.org/stable/modules/generated/sklearn.model_selection.train_test_split.html"
      ]
    },
    {
      "cell_type": "markdown",
      "metadata": {
        "id": "VHiKi1p2rmU_"
      },
      "source": [
        "The few following points are common to remember when using this function:\n",
        "\n",
        "1. In using scikit-learn, we conventionally denote the data matrix and targets by ``X`` and ``y``, respectively;\n",
        "\n",
        "2. Although ``train_test_split`` function can recieve an arbitrary number of sequences, in supverised learning it is common to use this function with the data matrix and targets only;\n",
        "\n",
        "3. Although ``train_test_split`` function returns a list, it is common to use sequence unpacking to name the results of the split;\n",
        "\n",
        "4. ``train_test_split`` function by default shuffles the data before splitting. This is a good practice to avoid systematic bias in the data; however, to be able to reproduce the results, it is a good practice to set the seed to some integer (e.g., ``random_state= 42``!) Why 42 is common :)? Read this https://en.wikipedia.org/wiki/42_(number) (sepcially parts on Technology, Religion, and Popular Culture). To show there is nothing special about this, in what follows, I use, for example, ``random_state= 100``.\n",
        "\n",
        "5. The function has a paramater ``test_size`` that represents the proportion of the data that should be part of the test set. The default value of this parameter is 0.25, which is a good rule of thumb if no other specific proportion is desired;\n",
        "\n",
        "6. It is a good practice to keep the proportion of classes in both the training and the test sets as in the whole data (set ``stratify`` to target).\n",
        "\n",
        "Using these conventions and tips, we split the data to 80% training and 20% test:"
      ]
    },
    {
      "cell_type": "code",
      "execution_count": 10,
      "metadata": {
        "colab": {
          "base_uri": "https://localhost:8080/"
        },
        "id": "h3YailWUrmU_",
        "outputId": "1227901b-629a-4d35-99e6-e3273f37c5f0"
      },
      "outputs": [
        {
          "output_type": "stream",
          "name": "stdout",
          "text": [
            "X_train_shape: (120, 4)\n",
            "X_test_shape: (30, 4)\n",
            "y_train_shape: (120,)\n",
            "y_test_shape: (30,)\n",
            "[[5.4 3.  4.5 1.5]\n",
            " [5.6 3.  4.1 1.3]\n",
            " [6.3 2.8 5.1 1.5]\n",
            " [6.  3.  4.8 1.8]\n",
            " [5.1 3.3 1.7 0.5]\n",
            " [6.9 3.1 5.1 2.3]\n",
            " [6.2 2.9 4.3 1.3]\n",
            " [4.8 3.4 1.9 0.2]\n",
            " [5.7 3.  4.2 1.2]\n",
            " [5.6 2.7 4.2 1.3]\n",
            " [5.5 2.5 4.  1.3]\n",
            " [6.5 3.  5.8 2.2]\n",
            " [6.8 3.  5.5 2.1]\n",
            " [5.4 3.7 1.5 0.2]\n",
            " [7.7 2.8 6.7 2. ]\n",
            " [5.1 3.4 1.5 0.2]\n",
            " [4.6 3.1 1.5 0.2]\n",
            " [7.  3.2 4.7 1.4]\n",
            " [4.8 3.1 1.6 0.2]\n",
            " [5.8 2.7 5.1 1.9]\n",
            " [4.4 2.9 1.4 0.2]\n",
            " [5.  2.  3.5 1. ]\n",
            " [5.1 2.5 3.  1.1]\n",
            " [4.7 3.2 1.3 0.2]\n",
            " [6.  2.2 5.  1.5]\n",
            " [5.7 4.4 1.5 0.4]\n",
            " [4.9 3.1 1.5 0.2]\n",
            " [6.1 2.6 5.6 1.4]\n",
            " [6.3 3.3 6.  2.5]\n",
            " [6.2 2.2 4.5 1.5]]\n"
          ]
        }
      ],
      "source": [
        "from sklearn.model_selection import train_test_split\n",
        "X_train, X_test, y_train, y_test= train_test_split(iris.data, iris.target, random_state=100, test_size=0.2, stratify=iris.target)\n",
        "print('X_train_shape: ' + str(X_train.shape) + '\\nX_test_shape: ' + str(X_test.shape)\\\n",
        "       + '\\ny_train_shape: ' + str(y_train.shape) + '\\ny_test_shape: ' + str(y_test.shape))\n",
        "print(X_test)"
      ]
    },
    {
      "cell_type": "code",
      "execution_count": 9,
      "metadata": {
        "colab": {
          "base_uri": "https://localhost:8080/",
          "height": 141
        },
        "id": "9YkFvVqfrmU_",
        "outputId": "dec60ddc-cf73-4704-c8ec-2f83033f0752"
      },
      "outputs": [
        {
          "output_type": "error",
          "ename": "NameError",
          "evalue": "name 'np' is not defined",
          "traceback": [
            "\u001b[0;31m---------------------------------------------------------------------------\u001b[0m",
            "\u001b[0;31mNameError\u001b[0m                                 Traceback (most recent call last)",
            "\u001b[0;32m<ipython-input-9-ff5a75ce3305>\u001b[0m in \u001b[0;36m<cell line: 1>\u001b[0;34m()\u001b[0m\n\u001b[0;32m----> 1\u001b[0;31m \u001b[0mnp\u001b[0m\u001b[0;34m.\u001b[0m\u001b[0mbincount\u001b[0m\u001b[0;34m(\u001b[0m\u001b[0my_train\u001b[0m\u001b[0;34m)\u001b[0m\u001b[0;34m\u001b[0m\u001b[0;34m\u001b[0m\u001b[0m\n\u001b[0m",
            "\u001b[0;31mNameError\u001b[0m: name 'np' is not defined"
          ]
        }
      ],
      "source": [
        "np.bincount(y_train)"
      ]
    },
    {
      "cell_type": "markdown",
      "metadata": {
        "id": "tGO7hi2OrmVA"
      },
      "source": [
        "## 3.5 Data Visualization"
      ]
    },
    {
      "cell_type": "markdown",
      "metadata": {
        "id": "W0lxi-1vrmVD"
      },
      "source": [
        "To have a sense of data, we look into *pair plots* (we use ``pairplot()`` function from ``Seaborn`` library). As this function expects a ``DataFrame`` an the input, we first convert the ``X_train`` and ``y_train`` arrays to dataframes and concatente them."
      ]
    },
    {
      "cell_type": "code",
      "execution_count": null,
      "metadata": {
        "id": "_Bn_A_XTrmVD"
      },
      "outputs": [],
      "source": [
        "import pandas as pd\n",
        "X_train_df = pd.DataFrame(X_train, columns=iris.feature_names)\n",
        "y_train_df = pd.DataFrame(y_train, columns=['class'])\n",
        "X_y_train_df = pd.concat([X_train_df, y_train_df], axis=1)"
      ]
    },
    {
      "cell_type": "code",
      "execution_count": null,
      "metadata": {
        "id": "yE9LwoiXrmVE",
        "outputId": "5f9c72ad-a81b-49f2-f444-212e44002204"
      },
      "outputs": [
        {
          "name": "stderr",
          "output_type": "stream",
          "text": [
            "/usr/local/lib/python3.11/site-packages/seaborn/axisgrid.py:123: UserWarning: The figure layout has changed to tight\n",
            "  self._figure.tight_layout(*args, **kwargs)\n"
          ]
        },
        {
          "data": {
            "text/plain": [
              "<seaborn.axisgrid.PairGrid at 0x12da29350>"
            ]
          },
          "execution_count": 13,
          "metadata": {},
          "output_type": "execute_result"
        },
        {
          "data": {
            "image/png": "[encoded data removed]",
            "text/plain": [
              "<Figure size 1258.88x1200 with 20 Axes>"
            ]
          },
          "metadata": {},
          "output_type": "display_data"
        }
      ],
      "source": [
        "import seaborn as sns\n",
        "sns.pairplot(X_y_train_df, hue='class', height=3) # hue is set to the class variable in the dataframe so that they are plotted in different color and we are able to distinguish classes"
      ]
    },
    {
      "cell_type": "markdown",
      "metadata": {
        "id": "kz6bKm35rmVE"
      },
      "source": [
        "Diagonal figures show the histogram of variables"
      ]
    },
    {
      "cell_type": "markdown",
      "metadata": {
        "id": "RCkm3dHfrmVE"
      },
      "source": [
        "## 3.6 Feature Scaling (Normalization)"
      ]
    },
    {
      "cell_type": "markdown",
      "metadata": {
        "id": "Og_AAXfArmVE"
      },
      "source": [
        "Two common way for feature scaling include *standardization* and *min-max scaling*:"
      ]
    },
    {
      "cell_type": "markdown",
      "metadata": {
        "id": "ROC-7JibrmVE"
      },
      "source": [
        "In standardization, for each column (values for each feature) we subtract the mean of that feature and divide by its standard deviation. This way the feature vector is centered around zero and will have a standard deviation of one. In min-max scaling, we subtract the minimum of a feature and divide it by its range (max - min of that feature)."
      ]
    },
    {
      "cell_type": "markdown",
      "metadata": {
        "id": "xwpm_w9FrmVE"
      },
      "source": [
        "First let's see how standardization for instance is done using few lines of codes in which we use the built-in NumPy ``mean()`` and ``std()`` functions:"
      ]
    },
    {
      "cell_type": "code",
      "execution_count": 11,
      "metadata": {
        "colab": {
          "base_uri": "https://localhost:8080/"
        },
        "id": "DdIZGMc6rmVE",
        "outputId": "8757827f-0003-4d56-932a-1b92247e6a73"
      },
      "outputs": [
        {
          "output_type": "execute_result",
          "data": {
            "text/plain": [
              "array([0.8314107 , 0.42581213, 1.7773193 , 0.76754976])"
            ]
          },
          "metadata": {},
          "execution_count": 11
        }
      ],
      "source": [
        "X_train.mean(axis=0)\n",
        "X_train.std(axis=0)"
      ]
    },
    {
      "cell_type": "code",
      "execution_count": 12,
      "metadata": {
        "id": "FkFmkh6FrmVE"
      },
      "outputs": [],
      "source": [
        "mean = X_train.mean(axis=0) # to take the mean across rows (for each column)\n",
        "std = X_train.std(axis=0) # to take the std across rows (for each column)\n",
        "X_train_scaled = X_train - mean # notice the utility of broadcasting\n",
        "X_train_scaled /= std"
      ]
    },
    {
      "cell_type": "code",
      "execution_count": 13,
      "metadata": {
        "colab": {
          "base_uri": "https://localhost:8080/"
        },
        "id": "7TCfDSvHrmVE",
        "outputId": "f7556891-eae5-4278-8c7e-3672dc60d933"
      },
      "outputs": [
        {
          "output_type": "execute_result",
          "data": {
            "text/plain": [
              "array([-4.21884749e-16,  1.20042865e-16, -3.88578059e-16, -7.04991621e-16])"
            ]
          },
          "metadata": {},
          "execution_count": 13
        }
      ],
      "source": [
        "X_train_scaled.mean(axis=0) # observe the mean is 0 now"
      ]
    },
    {
      "cell_type": "code",
      "execution_count": 14,
      "metadata": {
        "colab": {
          "base_uri": "https://localhost:8080/"
        },
        "id": "dBHCLDlHrmVE",
        "outputId": "34a34ce9-f304-48c2-e320-481b4e82c0c0"
      },
      "outputs": [
        {
          "output_type": "execute_result",
          "data": {
            "text/plain": [
              "array([1., 1., 1., 1.])"
            ]
          },
          "metadata": {},
          "execution_count": 14
        }
      ],
      "source": [
        "X_train_scaled.std(axis=0) # observe the std is 1 now"
      ]
    },
    {
      "cell_type": "markdown",
      "metadata": {
        "id": "ZDhtRKWfrmVE"
      },
      "source": [
        "It is important to note that the \"test data\" should not be used in any stage involved in the training of your model, not even in preprocessing stages such as normalization. This is why here we are applying the normalization to the training data. Once the relevant statistics (here mean and std) are estimated from the training data, they can be used to normalize the test data:"
      ]
    },
    {
      "cell_type": "code",
      "execution_count": 15,
      "metadata": {
        "colab": {
          "base_uri": "https://localhost:8080/"
        },
        "id": "yvaWyYCWrmVE",
        "outputId": "75773078-20aa-4c68-b652-4a31910ba4c5"
      },
      "outputs": [
        {
          "output_type": "execute_result",
          "data": {
            "text/plain": [
              "array([5.70666667, 2.97      , 3.70333333, 1.15333333])"
            ]
          },
          "metadata": {},
          "execution_count": 15
        }
      ],
      "source": [
        "X_test.mean(axis=0)"
      ]
    },
    {
      "cell_type": "code",
      "execution_count": 16,
      "metadata": {
        "id": "UBsNtYtfrmVE"
      },
      "outputs": [],
      "source": [
        "X_test_scaled = X_test - mean\n",
        "X_test_scaled /= std"
      ]
    },
    {
      "cell_type": "markdown",
      "metadata": {
        "id": "B7iztvgHrmVE"
      },
      "source": [
        "Observe that the test data does not necessarily have a mean of 0 or std of 1:"
      ]
    },
    {
      "cell_type": "code",
      "execution_count": 17,
      "metadata": {
        "colab": {
          "base_uri": "https://localhost:8080/"
        },
        "id": "58Msiz1XrmVE",
        "outputId": "ce29e28c-ddfd-4c44-9ea0-f09dbc2fff0d"
      },
      "outputs": [
        {
          "output_type": "stream",
          "name": "stdout",
          "text": [
            "[-0.20547406 -0.25637284 -0.03844742 -0.07491371]\n",
            "[0.94499306 1.07303169 0.94790626 0.94534006]\n"
          ]
        }
      ],
      "source": [
        "print(X_test_scaled.mean(axis=0))\n",
        "print(X_test_scaled.std(axis=0))"
      ]
    },
    {
      "cell_type": "markdown",
      "metadata": {
        "id": "UIA9LnYfrmVE"
      },
      "source": [
        "Sikit-learn has transformers for implementing both standardization and min-max scaling. These are ``StandardScaler`` (for standardization) and ``MinMaxScaler`` (for min-max scaling) classes from ``preprocessing`` module:"
      ]
    },
    {
      "cell_type": "code",
      "execution_count": null,
      "metadata": {
        "id": "LG79CHvBrmVE"
      },
      "outputs": [],
      "source": [
        "from sklearn.preprocessing import StandardScaler\n",
        "scaler = StandardScaler()"
      ]
    },
    {
      "cell_type": "markdown",
      "metadata": {
        "id": "STYtiubjrmVF"
      },
      "source": [
        "To estimate the mean and standard deviation of each feature of the data, we call the ``fit()`` method of ``scaler`` object (afterall, any transformer is an estimator and implements the ``fit()`` method):"
      ]
    },
    {
      "cell_type": "code",
      "execution_count": null,
      "metadata": {
        "id": "SFC9Lk-rrmVF",
        "outputId": "a8d041d4-4218-48dc-ebc2-6637784d4359"
      },
      "outputs": [
        {
          "data": {
            "text/html": [
              "<style>#sk-container-id-1 {\n",
              "  /* Definition of color scheme common for light and dark mode */\n",
              "  --sklearn-color-text: black;\n",
              "  --sklearn-color-line: gray;\n",
              "  /* Definition of color scheme for unfitted estimators */\n",
              "  --sklearn-color-unfitted-level-0: #fff5e6;\n",
              "  --sklearn-color-unfitted-level-1: #f6e4d2;\n",
              "  --sklearn-color-unfitted-level-2: #ffe0b3;\n",
              "  --sklearn-color-unfitted-level-3: chocolate;\n",
              "  /* Definition of color scheme for fitted estimators */\n",
              "  --sklearn-color-fitted-level-0: #f0f8ff;\n",
              "  --sklearn-color-fitted-level-1: #d4ebff;\n",
              "  --sklearn-color-fitted-level-2: #b3dbfd;\n",
              "  --sklearn-color-fitted-level-3: cornflowerblue;\n",
              "\n",
              "  /* Specific color for light theme */\n",
              "  --sklearn-color-text-on-default-background: var(--sg-text-color, var(--theme-code-foreground, var(--jp-content-font-color1, black)));\n",
              "  --sklearn-color-background: var(--sg-background-color, var(--theme-background, var(--jp-layout-color0, white)));\n",
              "  --sklearn-color-border-box: var(--sg-text-color, var(--theme-code-foreground, var(--jp-content-font-color1, black)));\n",
              "  --sklearn-color-icon: #696969;\n",
              "\n",
              "  @media (prefers-color-scheme: dark) {\n",
              "    /* Redefinition of color scheme for dark theme */\n",
              "    --sklearn-color-text-on-default-background: var(--sg-text-color, var(--theme-code-foreground, var(--jp-content-font-color1, white)));\n",
              "    --sklearn-color-background: var(--sg-background-color, var(--theme-background, var(--jp-layout-color0, #111)));\n",
              "    --sklearn-color-border-box: var(--sg-text-color, var(--theme-code-foreground, var(--jp-content-font-color1, white)));\n",
              "    --sklearn-color-icon: #878787;\n",
              "  }\n",
              "}\n",
              "\n",
              "#sk-container-id-1 {\n",
              "  color: var(--sklearn-color-text);\n",
              "}\n",
              "\n",
              "#sk-container-id-1 pre {\n",
              "  padding: 0;\n",
              "}\n",
              "\n",
              "#sk-container-id-1 input.sk-hidden--visually {\n",
              "  border: 0;\n",
              "  clip: rect(1px 1px 1px 1px);\n",
              "  clip: rect(1px, 1px, 1px, 1px);\n",
              "  height: 1px;\n",
              "  margin: -1px;\n",
              "  overflow: hidden;\n",
              "  padding: 0;\n",
              "  position: absolute;\n",
              "  width: 1px;\n",
              "}\n",
              "\n",
              "#sk-container-id-1 div.sk-dashed-wrapped {\n",
              "  border: 1px dashed var(--sklearn-color-line);\n",
              "  margin: 0 0.4em 0.5em 0.4em;\n",
              "  box-sizing: border-box;\n",
              "  padding-bottom: 0.4em;\n",
              "  background-color: var(--sklearn-color-background);\n",
              "}\n",
              "\n",
              "#sk-container-id-1 div.sk-container {\n",
              "  /* jupyter's `normalize.less` sets `[hidden] { display: none; }`\n",
              "     but bootstrap.min.css set `[hidden] { display: none !important; }`\n",
              "     so we also need the `!important` here to be able to override the\n",
              "     default hidden behavior on the sphinx rendered scikit-learn.org.\n",
              "     See: https://github.com/scikit-learn/scikit-learn/issues/21755 */\n",
              "  display: inline-block !important;\n",
              "  position: relative;\n",
              "}\n",
              "\n",
              "#sk-container-id-1 div.sk-text-repr-fallback {\n",
              "  display: none;\n",
              "}\n",
              "\n",
              "div.sk-parallel-item,\n",
              "div.sk-serial,\n",
              "div.sk-item {\n",
              "  /* draw centered vertical line to link estimators */\n",
              "  background-image: linear-gradient(var(--sklearn-color-text-on-default-background), var(--sklearn-color-text-on-default-background));\n",
              "  background-size: 2px 100%;\n",
              "  background-repeat: no-repeat;\n",
              "  background-position: center center;\n",
              "}\n",
              "\n",
              "/* Parallel-specific style estimator block */\n",
              "\n",
              "#sk-container-id-1 div.sk-parallel-item::after {\n",
              "  content: \"\";\n",
              "  width: 100%;\n",
              "  border-bottom: 2px solid var(--sklearn-color-text-on-default-background);\n",
              "  flex-grow: 1;\n",
              "}\n",
              "\n",
              "#sk-container-id-1 div.sk-parallel {\n",
              "  display: flex;\n",
              "  align-items: stretch;\n",
              "  justify-content: center;\n",
              "  background-color: var(--sklearn-color-background);\n",
              "  position: relative;\n",
              "}\n",
              "\n",
              "#sk-container-id-1 div.sk-parallel-item {\n",
              "  display: flex;\n",
              "  flex-direction: column;\n",
              "}\n",
              "\n",
              "#sk-container-id-1 div.sk-parallel-item:first-child::after {\n",
              "  align-self: flex-end;\n",
              "  width: 50%;\n",
              "}\n",
              "\n",
              "#sk-container-id-1 div.sk-parallel-item:last-child::after {\n",
              "  align-self: flex-start;\n",
              "  width: 50%;\n",
              "}\n",
              "\n",
              "#sk-container-id-1 div.sk-parallel-item:only-child::after {\n",
              "  width: 0;\n",
              "}\n",
              "\n",
              "/* Serial-specific style estimator block */\n",
              "\n",
              "#sk-container-id-1 div.sk-serial {\n",
              "  display: flex;\n",
              "  flex-direction: column;\n",
              "  align-items: center;\n",
              "  background-color: var(--sklearn-color-background);\n",
              "  padding-right: 1em;\n",
              "  padding-left: 1em;\n",
              "}\n",
              "\n",
              "\n",
              "/* Toggleable style: style used for estimator/Pipeline/ColumnTransformer box that is\n",
              "clickable and can be expanded/collapsed.\n",
              "- Pipeline and ColumnTransformer use this feature and define the default style\n",
              "- Estimators will overwrite some part of the style using the `sk-estimator` class\n",
              "*/\n",
              "\n",
              "/* Pipeline and ColumnTransformer style (default) */\n",
              "\n",
              "#sk-container-id-1 div.sk-toggleable {\n",
              "  /* Default theme specific background. It is overwritten whether we have a\n",
              "  specific estimator or a Pipeline/ColumnTransformer */\n",
              "  background-color: var(--sklearn-color-background);\n",
              "}\n",
              "\n",
              "/* Toggleable label */\n",
              "#sk-container-id-1 label.sk-toggleable__label {\n",
              "  cursor: pointer;\n",
              "  display: block;\n",
              "  width: 100%;\n",
              "  margin-bottom: 0;\n",
              "  padding: 0.5em;\n",
              "  box-sizing: border-box;\n",
              "  text-align: center;\n",
              "}\n",
              "\n",
              "#sk-container-id-1 label.sk-toggleable__label-arrow:before {\n",
              "  /* Arrow on the left of the label */\n",
              "  content: \"▸\";\n",
              "  float: left;\n",
              "  margin-right: 0.25em;\n",
              "  color: var(--sklearn-color-icon);\n",
              "}\n",
              "\n",
              "#sk-container-id-1 label.sk-toggleable__label-arrow:hover:before {\n",
              "  color: var(--sklearn-color-text);\n",
              "}\n",
              "\n",
              "/* Toggleable content - dropdown */\n",
              "\n",
              "#sk-container-id-1 div.sk-toggleable__content {\n",
              "  max-height: 0;\n",
              "  max-width: 0;\n",
              "  overflow: hidden;\n",
              "  text-align: left;\n",
              "  /* unfitted */\n",
              "  background-color: var(--sklearn-color-unfitted-level-0);\n",
              "}\n",
              "\n",
              "#sk-container-id-1 div.sk-toggleable__content.fitted {\n",
              "  /* fitted */\n",
              "  background-color: var(--sklearn-color-fitted-level-0);\n",
              "}\n",
              "\n",
              "#sk-container-id-1 div.sk-toggleable__content pre {\n",
              "  margin: 0.2em;\n",
              "  border-radius: 0.25em;\n",
              "  color: var(--sklearn-color-text);\n",
              "  /* unfitted */\n",
              "  background-color: var(--sklearn-color-unfitted-level-0);\n",
              "}\n",
              "\n",
              "#sk-container-id-1 div.sk-toggleable__content.fitted pre {\n",
              "  /* unfitted */\n",
              "  background-color: var(--sklearn-color-fitted-level-0);\n",
              "}\n",
              "\n",
              "#sk-container-id-1 input.sk-toggleable__control:checked~div.sk-toggleable__content {\n",
              "  /* Expand drop-down */\n",
              "  max-height: 200px;\n",
              "  max-width: 100%;\n",
              "  overflow: auto;\n",
              "}\n",
              "\n",
              "#sk-container-id-1 input.sk-toggleable__control:checked~label.sk-toggleable__label-arrow:before {\n",
              "  content: \"▾\";\n",
              "}\n",
              "\n",
              "/* Pipeline/ColumnTransformer-specific style */\n",
              "\n",
              "#sk-container-id-1 div.sk-label input.sk-toggleable__control:checked~label.sk-toggleable__label {\n",
              "  color: var(--sklearn-color-text);\n",
              "  background-color: var(--sklearn-color-unfitted-level-2);\n",
              "}\n",
              "\n",
              "#sk-container-id-1 div.sk-label.fitted input.sk-toggleable__control:checked~label.sk-toggleable__label {\n",
              "  background-color: var(--sklearn-color-fitted-level-2);\n",
              "}\n",
              "\n",
              "/* Estimator-specific style */\n",
              "\n",
              "/* Colorize estimator box */\n",
              "#sk-container-id-1 div.sk-estimator input.sk-toggleable__control:checked~label.sk-toggleable__label {\n",
              "  /* unfitted */\n",
              "  background-color: var(--sklearn-color-unfitted-level-2);\n",
              "}\n",
              "\n",
              "#sk-container-id-1 div.sk-estimator.fitted input.sk-toggleable__control:checked~label.sk-toggleable__label {\n",
              "  /* fitted */\n",
              "  background-color: var(--sklearn-color-fitted-level-2);\n",
              "}\n",
              "\n",
              "#sk-container-id-1 div.sk-label label.sk-toggleable__label,\n",
              "#sk-container-id-1 div.sk-label label {\n",
              "  /* The background is the default theme color */\n",
              "  color: var(--sklearn-color-text-on-default-background);\n",
              "}\n",
              "\n",
              "/* On hover, darken the color of the background */\n",
              "#sk-container-id-1 div.sk-label:hover label.sk-toggleable__label {\n",
              "  color: var(--sklearn-color-text);\n",
              "  background-color: var(--sklearn-color-unfitted-level-2);\n",
              "}\n",
              "\n",
              "/* Label box, darken color on hover, fitted */\n",
              "#sk-container-id-1 div.sk-label.fitted:hover label.sk-toggleable__label.fitted {\n",
              "  color: var(--sklearn-color-text);\n",
              "  background-color: var(--sklearn-color-fitted-level-2);\n",
              "}\n",
              "\n",
              "/* Estimator label */\n",
              "\n",
              "#sk-container-id-1 div.sk-label label {\n",
              "  font-family: monospace;\n",
              "  font-weight: bold;\n",
              "  display: inline-block;\n",
              "  line-height: 1.2em;\n",
              "}\n",
              "\n",
              "#sk-container-id-1 div.sk-label-container {\n",
              "  text-align: center;\n",
              "}\n",
              "\n",
              "/* Estimator-specific */\n",
              "#sk-container-id-1 div.sk-estimator {\n",
              "  font-family: monospace;\n",
              "  border: 1px dotted var(--sklearn-color-border-box);\n",
              "  border-radius: 0.25em;\n",
              "  box-sizing: border-box;\n",
              "  margin-bottom: 0.5em;\n",
              "  /* unfitted */\n",
              "  background-color: var(--sklearn-color-unfitted-level-0);\n",
              "}\n",
              "\n",
              "#sk-container-id-1 div.sk-estimator.fitted {\n",
              "  /* fitted */\n",
              "  background-color: var(--sklearn-color-fitted-level-0);\n",
              "}\n",
              "\n",
              "/* on hover */\n",
              "#sk-container-id-1 div.sk-estimator:hover {\n",
              "  /* unfitted */\n",
              "  background-color: var(--sklearn-color-unfitted-level-2);\n",
              "}\n",
              "\n",
              "#sk-container-id-1 div.sk-estimator.fitted:hover {\n",
              "  /* fitted */\n",
              "  background-color: var(--sklearn-color-fitted-level-2);\n",
              "}\n",
              "\n",
              "/* Specification for estimator info (e.g. \"i\" and \"?\") */\n",
              "\n",
              "/* Common style for \"i\" and \"?\" */\n",
              "\n",
              ".sk-estimator-doc-link,\n",
              "a:link.sk-estimator-doc-link,\n",
              "a:visited.sk-estimator-doc-link {\n",
              "  float: right;\n",
              "  font-size: smaller;\n",
              "  line-height: 1em;\n",
              "  font-family: monospace;\n",
              "  background-color: var(--sklearn-color-background);\n",
              "  border-radius: 1em;\n",
              "  height: 1em;\n",
              "  width: 1em;\n",
              "  text-decoration: none !important;\n",
              "  margin-left: 1ex;\n",
              "  /* unfitted */\n",
              "  border: var(--sklearn-color-unfitted-level-1) 1pt solid;\n",
              "  color: var(--sklearn-color-unfitted-level-1);\n",
              "}\n",
              "\n",
              ".sk-estimator-doc-link.fitted,\n",
              "a:link.sk-estimator-doc-link.fitted,\n",
              "a:visited.sk-estimator-doc-link.fitted {\n",
              "  /* fitted */\n",
              "  border: var(--sklearn-color-fitted-level-1) 1pt solid;\n",
              "  color: var(--sklearn-color-fitted-level-1);\n",
              "}\n",
              "\n",
              "/* On hover */\n",
              "div.sk-estimator:hover .sk-estimator-doc-link:hover,\n",
              ".sk-estimator-doc-link:hover,\n",
              "div.sk-label-container:hover .sk-estimator-doc-link:hover,\n",
              ".sk-estimator-doc-link:hover {\n",
              "  /* unfitted */\n",
              "  background-color: var(--sklearn-color-unfitted-level-3);\n",
              "  color: var(--sklearn-color-background);\n",
              "  text-decoration: none;\n",
              "}\n",
              "\n",
              "div.sk-estimator.fitted:hover .sk-estimator-doc-link.fitted:hover,\n",
              ".sk-estimator-doc-link.fitted:hover,\n",
              "div.sk-label-container:hover .sk-estimator-doc-link.fitted:hover,\n",
              ".sk-estimator-doc-link.fitted:hover {\n",
              "  /* fitted */\n",
              "  background-color: var(--sklearn-color-fitted-level-3);\n",
              "  color: var(--sklearn-color-background);\n",
              "  text-decoration: none;\n",
              "}\n",
              "\n",
              "/* Span, style for the box shown on hovering the info icon */\n",
              ".sk-estimator-doc-link span {\n",
              "  display: none;\n",
              "  z-index: 9999;\n",
              "  position: relative;\n",
              "  font-weight: normal;\n",
              "  right: .2ex;\n",
              "  padding: .5ex;\n",
              "  margin: .5ex;\n",
              "  width: min-content;\n",
              "  min-width: 20ex;\n",
              "  max-width: 50ex;\n",
              "  color: var(--sklearn-color-text);\n",
              "  box-shadow: 2pt 2pt 4pt #999;\n",
              "  /* unfitted */\n",
              "  background: var(--sklearn-color-unfitted-level-0);\n",
              "  border: .5pt solid var(--sklearn-color-unfitted-level-3);\n",
              "}\n",
              "\n",
              ".sk-estimator-doc-link.fitted span {\n",
              "  /* fitted */\n",
              "  background: var(--sklearn-color-fitted-level-0);\n",
              "  border: var(--sklearn-color-fitted-level-3);\n",
              "}\n",
              "\n",
              ".sk-estimator-doc-link:hover span {\n",
              "  display: block;\n",
              "}\n",
              "\n",
              "/* \"?\"-specific style due to the `<a>` HTML tag */\n",
              "\n",
              "#sk-container-id-1 a.estimator_doc_link {\n",
              "  float: right;\n",
              "  font-size: 1rem;\n",
              "  line-height: 1em;\n",
              "  font-family: monospace;\n",
              "  background-color: var(--sklearn-color-background);\n",
              "  border-radius: 1rem;\n",
              "  height: 1rem;\n",
              "  width: 1rem;\n",
              "  text-decoration: none;\n",
              "  /* unfitted */\n",
              "  color: var(--sklearn-color-unfitted-level-1);\n",
              "  border: var(--sklearn-color-unfitted-level-1) 1pt solid;\n",
              "}\n",
              "\n",
              "#sk-container-id-1 a.estimator_doc_link.fitted {\n",
              "  /* fitted */\n",
              "  border: var(--sklearn-color-fitted-level-1) 1pt solid;\n",
              "  color: var(--sklearn-color-fitted-level-1);\n",
              "}\n",
              "\n",
              "/* On hover */\n",
              "#sk-container-id-1 a.estimator_doc_link:hover {\n",
              "  /* unfitted */\n",
              "  background-color: var(--sklearn-color-unfitted-level-3);\n",
              "  color: var(--sklearn-color-background);\n",
              "  text-decoration: none;\n",
              "}\n",
              "\n",
              "#sk-container-id-1 a.estimator_doc_link.fitted:hover {\n",
              "  /* fitted */\n",
              "  background-color: var(--sklearn-color-fitted-level-3);\n",
              "}\n",
              "</style><div id=\"sk-container-id-1\" class=\"sk-top-container\"><div class=\"sk-text-repr-fallback\"><pre>StandardScaler()</pre><b>In a Jupyter environment, please rerun this cell to show the HTML representation or trust the notebook. <br />On GitHub, the HTML representation is unable to render, please try loading this page with nbviewer.org.</b></div><div class=\"sk-container\" hidden><div class=\"sk-item\"><div class=\"sk-estimator fitted sk-toggleable\"><input class=\"sk-toggleable__control sk-hidden--visually\" id=\"sk-estimator-id-1\" type=\"checkbox\" checked><label for=\"sk-estimator-id-1\" class=\"sk-toggleable__label fitted sk-toggleable__label-arrow fitted\">&nbsp;&nbsp;StandardScaler<a class=\"sk-estimator-doc-link fitted\" rel=\"noreferrer\" target=\"_blank\" href=\"https://scikit-learn.org/1.4/modules/generated/sklearn.preprocessing.StandardScaler.html\">?<span>Documentation for StandardScaler</span></a><span class=\"sk-estimator-doc-link fitted\">i<span>Fitted</span></span></label><div class=\"sk-toggleable__content fitted\"><pre>StandardScaler()</pre></div> </div></div></div></div>"
            ],
            "text/plain": [
              "StandardScaler()"
            ]
          },
          "execution_count": 21,
          "metadata": {},
          "output_type": "execute_result"
        }
      ],
      "source": [
        "scaler.fit(X_train)"
      ]
    },
    {
      "cell_type": "markdown",
      "metadata": {
        "id": "zU-cUmSDrmVF"
      },
      "source": [
        "Ttransform the training and test data based on the information extracted from training data:"
      ]
    },
    {
      "cell_type": "code",
      "execution_count": null,
      "metadata": {
        "id": "DZnrrcOkrmVF"
      },
      "outputs": [],
      "source": [
        "X_train_scaled = scaler.transform(X_train)\n",
        "X_test_scaled = scaler.transform(X_test)"
      ]
    },
    {
      "cell_type": "code",
      "execution_count": null,
      "metadata": {
        "id": "tVqwF4WzrmVF",
        "outputId": "00a42c54-6c67-4644-ef90-abf975ad9e1e"
      },
      "outputs": [
        {
          "name": "stdout",
          "output_type": "stream",
          "text": [
            "[-0.20547406 -0.25637284 -0.03844742 -0.07491371]\n",
            "[0.94499306 1.07303169 0.94790626 0.94534006]\n"
          ]
        }
      ],
      "source": [
        "print(X_test_scaled.mean(axis=0)) # observe that we get the same values for the mean and std of test data as in the naive implementation shown above\n",
        "print(X_test_scaled.std(axis=0))"
      ]
    },
    {
      "cell_type": "markdown",
      "metadata": {
        "id": "y1MXLuXZrmVF"
      },
      "source": [
        "For later use save arrays using ``numpy.save()`` to binary files:"
      ]
    },
    {
      "cell_type": "code",
      "execution_count": null,
      "metadata": {
        "id": "GUZa8rfLrmVF"
      },
      "outputs": [],
      "source": [
        "#np.savez('data/iris_train_scaled', X = X_train_scaled, y = y_train) # there are commented out so you don't change the datasets given to you\n",
        "#np.savez('data/iris_test_scaled', X = X_test_scaled, y = y_test) # there are commented out so you don't change the datasets given to you"
      ]
    },
    {
      "cell_type": "markdown",
      "metadata": {
        "id": "tlYNoNXtrmVF"
      },
      "source": [
        "The ``numpy.save`` and ``numpy.save`` will give the name of a file ``npy`` and ``npz`` extensions, respectively. Later the arrays could be loaded by ``numpy.load()``. Using ``numpy.load()`` for ``npz`` files, return a dictionary-like object using which each array can be accessed either by the keywords we provide when saving the file or ``arr_0``, ``arr_1``, ... if positional arguments were used when saving the file."
      ]
    },
    {
      "cell_type": "markdown",
      "metadata": {
        "id": "9s6VvXacrmVF"
      },
      "source": [
        "## 3.7 Model Training"
      ]
    },
    {
      "cell_type": "markdown",
      "metadata": {
        "id": "HteImR0lrmVF"
      },
      "source": [
        "We are now in the position to train the actual machine learning model. For this purpose, we use the *K*-nearest neighbor (KNN) classification rule in its original form. For example, in Fig. 2, 5NN assigns blue to the test observation because within the 5 nearest observations to this test point, four are from the blue class."
      ]
    },
    {
      "cell_type": "markdown",
      "metadata": {
        "id": "BfvqpER7rmVF"
      },
      "source": [
        "<img align=\"top\" src=\"images/S3_fig2.png\" alt=\"drawing\" width=\"540\"/><br>\n",
        "\n",
        "\n",
        "Figure 2: The working principle of KNN (here $K=5$). The test point is identified by $\\times$. The circle encloses 5 nearest point to the test point."
      ]
    },
    {
      "cell_type": "markdown",
      "metadata": {
        "id": "C6x8NGH6rmVF"
      },
      "source": [
        "As mentioned before in Section [3.2](#sklearn), KNN is implemented in the ``KNeighborsClassifier`` class in the ``neighbors`` module. We first instantiate the ``KNeighborsClassifier`` class into an object:"
      ]
    },
    {
      "cell_type": "code",
      "execution_count": null,
      "metadata": {
        "id": "P73RG-OermVF"
      },
      "outputs": [],
      "source": [
        "from sklearn.neighbors import KNeighborsClassifier as KNN # we give an alias KNN for simplicity\n",
        "knn = KNN(n_neighbors=3) # hyperparameter K is set to 3; that is, we have 3NN"
      ]
    },
    {
      "cell_type": "markdown",
      "metadata": {
        "id": "LT5Gh-1trmVF"
      },
      "source": [
        "\"K\" in KNN is a *hyperparameter*."
      ]
    },
    {
      "cell_type": "markdown",
      "metadata": {
        "id": "0nLkzUG5rmVF"
      },
      "source": [
        "To train the model, we call the ``fit()`` method of the ``knn`` object but because this is a model used for supervised learning, its ``fit()`` method expects both ``X`` and ``y``:\n",
        "\n",
        "https://scikit-learn.org/stable/modules/generated/sklearn.neighbors.KNeighborsClassifier.html#sklearn.neighbors.KNeighborsClassifier.fit"
      ]
    },
    {
      "cell_type": "code",
      "execution_count": null,
      "metadata": {
        "id": "XVNmf8e_rmVF",
        "outputId": "343e4abc-059d-40dc-c991-09b8515ad9ae"
      },
      "outputs": [
        {
          "data": {
            "text/html": [
              "<style>#sk-container-id-2 {\n",
              "  /* Definition of color scheme common for light and dark mode */\n",
              "  --sklearn-color-text: black;\n",
              "  --sklearn-color-line: gray;\n",
              "  /* Definition of color scheme for unfitted estimators */\n",
              "  --sklearn-color-unfitted-level-0: #fff5e6;\n",
              "  --sklearn-color-unfitted-level-1: #f6e4d2;\n",
              "  --sklearn-color-unfitted-level-2: #ffe0b3;\n",
              "  --sklearn-color-unfitted-level-3: chocolate;\n",
              "  /* Definition of color scheme for fitted estimators */\n",
              "  --sklearn-color-fitted-level-0: #f0f8ff;\n",
              "  --sklearn-color-fitted-level-1: #d4ebff;\n",
              "  --sklearn-color-fitted-level-2: #b3dbfd;\n",
              "  --sklearn-color-fitted-level-3: cornflowerblue;\n",
              "\n",
              "  /* Specific color for light theme */\n",
              "  --sklearn-color-text-on-default-background: var(--sg-text-color, var(--theme-code-foreground, var(--jp-content-font-color1, black)));\n",
              "  --sklearn-color-background: var(--sg-background-color, var(--theme-background, var(--jp-layout-color0, white)));\n",
              "  --sklearn-color-border-box: var(--sg-text-color, var(--theme-code-foreground, var(--jp-content-font-color1, black)));\n",
              "  --sklearn-color-icon: #696969;\n",
              "\n",
              "  @media (prefers-color-scheme: dark) {\n",
              "    /* Redefinition of color scheme for dark theme */\n",
              "    --sklearn-color-text-on-default-background: var(--sg-text-color, var(--theme-code-foreground, var(--jp-content-font-color1, white)));\n",
              "    --sklearn-color-background: var(--sg-background-color, var(--theme-background, var(--jp-layout-color0, #111)));\n",
              "    --sklearn-color-border-box: var(--sg-text-color, var(--theme-code-foreground, var(--jp-content-font-color1, white)));\n",
              "    --sklearn-color-icon: #878787;\n",
              "  }\n",
              "}\n",
              "\n",
              "#sk-container-id-2 {\n",
              "  color: var(--sklearn-color-text);\n",
              "}\n",
              "\n",
              "#sk-container-id-2 pre {\n",
              "  padding: 0;\n",
              "}\n",
              "\n",
              "#sk-container-id-2 input.sk-hidden--visually {\n",
              "  border: 0;\n",
              "  clip: rect(1px 1px 1px 1px);\n",
              "  clip: rect(1px, 1px, 1px, 1px);\n",
              "  height: 1px;\n",
              "  margin: -1px;\n",
              "  overflow: hidden;\n",
              "  padding: 0;\n",
              "  position: absolute;\n",
              "  width: 1px;\n",
              "}\n",
              "\n",
              "#sk-container-id-2 div.sk-dashed-wrapped {\n",
              "  border: 1px dashed var(--sklearn-color-line);\n",
              "  margin: 0 0.4em 0.5em 0.4em;\n",
              "  box-sizing: border-box;\n",
              "  padding-bottom: 0.4em;\n",
              "  background-color: var(--sklearn-color-background);\n",
              "}\n",
              "\n",
              "#sk-container-id-2 div.sk-container {\n",
              "  /* jupyter's `normalize.less` sets `[hidden] { display: none; }`\n",
              "     but bootstrap.min.css set `[hidden] { display: none !important; }`\n",
              "     so we also need the `!important` here to be able to override the\n",
              "     default hidden behavior on the sphinx rendered scikit-learn.org.\n",
              "     See: https://github.com/scikit-learn/scikit-learn/issues/21755 */\n",
              "  display: inline-block !important;\n",
              "  position: relative;\n",
              "}\n",
              "\n",
              "#sk-container-id-2 div.sk-text-repr-fallback {\n",
              "  display: none;\n",
              "}\n",
              "\n",
              "div.sk-parallel-item,\n",
              "div.sk-serial,\n",
              "div.sk-item {\n",
              "  /* draw centered vertical line to link estimators */\n",
              "  background-image: linear-gradient(var(--sklearn-color-text-on-default-background), var(--sklearn-color-text-on-default-background));\n",
              "  background-size: 2px 100%;\n",
              "  background-repeat: no-repeat;\n",
              "  background-position: center center;\n",
              "}\n",
              "\n",
              "/* Parallel-specific style estimator block */\n",
              "\n",
              "#sk-container-id-2 div.sk-parallel-item::after {\n",
              "  content: \"\";\n",
              "  width: 100%;\n",
              "  border-bottom: 2px solid var(--sklearn-color-text-on-default-background);\n",
              "  flex-grow: 1;\n",
              "}\n",
              "\n",
              "#sk-container-id-2 div.sk-parallel {\n",
              "  display: flex;\n",
              "  align-items: stretch;\n",
              "  justify-content: center;\n",
              "  background-color: var(--sklearn-color-background);\n",
              "  position: relative;\n",
              "}\n",
              "\n",
              "#sk-container-id-2 div.sk-parallel-item {\n",
              "  display: flex;\n",
              "  flex-direction: column;\n",
              "}\n",
              "\n",
              "#sk-container-id-2 div.sk-parallel-item:first-child::after {\n",
              "  align-self: flex-end;\n",
              "  width: 50%;\n",
              "}\n",
              "\n",
              "#sk-container-id-2 div.sk-parallel-item:last-child::after {\n",
              "  align-self: flex-start;\n",
              "  width: 50%;\n",
              "}\n",
              "\n",
              "#sk-container-id-2 div.sk-parallel-item:only-child::after {\n",
              "  width: 0;\n",
              "}\n",
              "\n",
              "/* Serial-specific style estimator block */\n",
              "\n",
              "#sk-container-id-2 div.sk-serial {\n",
              "  display: flex;\n",
              "  flex-direction: column;\n",
              "  align-items: center;\n",
              "  background-color: var(--sklearn-color-background);\n",
              "  padding-right: 1em;\n",
              "  padding-left: 1em;\n",
              "}\n",
              "\n",
              "\n",
              "/* Toggleable style: style used for estimator/Pipeline/ColumnTransformer box that is\n",
              "clickable and can be expanded/collapsed.\n",
              "- Pipeline and ColumnTransformer use this feature and define the default style\n",
              "- Estimators will overwrite some part of the style using the `sk-estimator` class\n",
              "*/\n",
              "\n",
              "/* Pipeline and ColumnTransformer style (default) */\n",
              "\n",
              "#sk-container-id-2 div.sk-toggleable {\n",
              "  /* Default theme specific background. It is overwritten whether we have a\n",
              "  specific estimator or a Pipeline/ColumnTransformer */\n",
              "  background-color: var(--sklearn-color-background);\n",
              "}\n",
              "\n",
              "/* Toggleable label */\n",
              "#sk-container-id-2 label.sk-toggleable__label {\n",
              "  cursor: pointer;\n",
              "  display: block;\n",
              "  width: 100%;\n",
              "  margin-bottom: 0;\n",
              "  padding: 0.5em;\n",
              "  box-sizing: border-box;\n",
              "  text-align: center;\n",
              "}\n",
              "\n",
              "#sk-container-id-2 label.sk-toggleable__label-arrow:before {\n",
              "  /* Arrow on the left of the label */\n",
              "  content: \"▸\";\n",
              "  float: left;\n",
              "  margin-right: 0.25em;\n",
              "  color: var(--sklearn-color-icon);\n",
              "}\n",
              "\n",
              "#sk-container-id-2 label.sk-toggleable__label-arrow:hover:before {\n",
              "  color: var(--sklearn-color-text);\n",
              "}\n",
              "\n",
              "/* Toggleable content - dropdown */\n",
              "\n",
              "#sk-container-id-2 div.sk-toggleable__content {\n",
              "  max-height: 0;\n",
              "  max-width: 0;\n",
              "  overflow: hidden;\n",
              "  text-align: left;\n",
              "  /* unfitted */\n",
              "  background-color: var(--sklearn-color-unfitted-level-0);\n",
              "}\n",
              "\n",
              "#sk-container-id-2 div.sk-toggleable__content.fitted {\n",
              "  /* fitted */\n",
              "  background-color: var(--sklearn-color-fitted-level-0);\n",
              "}\n",
              "\n",
              "#sk-container-id-2 div.sk-toggleable__content pre {\n",
              "  margin: 0.2em;\n",
              "  border-radius: 0.25em;\n",
              "  color: var(--sklearn-color-text);\n",
              "  /* unfitted */\n",
              "  background-color: var(--sklearn-color-unfitted-level-0);\n",
              "}\n",
              "\n",
              "#sk-container-id-2 div.sk-toggleable__content.fitted pre {\n",
              "  /* unfitted */\n",
              "  background-color: var(--sklearn-color-fitted-level-0);\n",
              "}\n",
              "\n",
              "#sk-container-id-2 input.sk-toggleable__control:checked~div.sk-toggleable__content {\n",
              "  /* Expand drop-down */\n",
              "  max-height: 200px;\n",
              "  max-width: 100%;\n",
              "  overflow: auto;\n",
              "}\n",
              "\n",
              "#sk-container-id-2 input.sk-toggleable__control:checked~label.sk-toggleable__label-arrow:before {\n",
              "  content: \"▾\";\n",
              "}\n",
              "\n",
              "/* Pipeline/ColumnTransformer-specific style */\n",
              "\n",
              "#sk-container-id-2 div.sk-label input.sk-toggleable__control:checked~label.sk-toggleable__label {\n",
              "  color: var(--sklearn-color-text);\n",
              "  background-color: var(--sklearn-color-unfitted-level-2);\n",
              "}\n",
              "\n",
              "#sk-container-id-2 div.sk-label.fitted input.sk-toggleable__control:checked~label.sk-toggleable__label {\n",
              "  background-color: var(--sklearn-color-fitted-level-2);\n",
              "}\n",
              "\n",
              "/* Estimator-specific style */\n",
              "\n",
              "/* Colorize estimator box */\n",
              "#sk-container-id-2 div.sk-estimator input.sk-toggleable__control:checked~label.sk-toggleable__label {\n",
              "  /* unfitted */\n",
              "  background-color: var(--sklearn-color-unfitted-level-2);\n",
              "}\n",
              "\n",
              "#sk-container-id-2 div.sk-estimator.fitted input.sk-toggleable__control:checked~label.sk-toggleable__label {\n",
              "  /* fitted */\n",
              "  background-color: var(--sklearn-color-fitted-level-2);\n",
              "}\n",
              "\n",
              "#sk-container-id-2 div.sk-label label.sk-toggleable__label,\n",
              "#sk-container-id-2 div.sk-label label {\n",
              "  /* The background is the default theme color */\n",
              "  color: var(--sklearn-color-text-on-default-background);\n",
              "}\n",
              "\n",
              "/* On hover, darken the color of the background */\n",
              "#sk-container-id-2 div.sk-label:hover label.sk-toggleable__label {\n",
              "  color: var(--sklearn-color-text);\n",
              "  background-color: var(--sklearn-color-unfitted-level-2);\n",
              "}\n",
              "\n",
              "/* Label box, darken color on hover, fitted */\n",
              "#sk-container-id-2 div.sk-label.fitted:hover label.sk-toggleable__label.fitted {\n",
              "  color: var(--sklearn-color-text);\n",
              "  background-color: var(--sklearn-color-fitted-level-2);\n",
              "}\n",
              "\n",
              "/* Estimator label */\n",
              "\n",
              "#sk-container-id-2 div.sk-label label {\n",
              "  font-family: monospace;\n",
              "  font-weight: bold;\n",
              "  display: inline-block;\n",
              "  line-height: 1.2em;\n",
              "}\n",
              "\n",
              "#sk-container-id-2 div.sk-label-container {\n",
              "  text-align: center;\n",
              "}\n",
              "\n",
              "/* Estimator-specific */\n",
              "#sk-container-id-2 div.sk-estimator {\n",
              "  font-family: monospace;\n",
              "  border: 1px dotted var(--sklearn-color-border-box);\n",
              "  border-radius: 0.25em;\n",
              "  box-sizing: border-box;\n",
              "  margin-bottom: 0.5em;\n",
              "  /* unfitted */\n",
              "  background-color: var(--sklearn-color-unfitted-level-0);\n",
              "}\n",
              "\n",
              "#sk-container-id-2 div.sk-estimator.fitted {\n",
              "  /* fitted */\n",
              "  background-color: var(--sklearn-color-fitted-level-0);\n",
              "}\n",
              "\n",
              "/* on hover */\n",
              "#sk-container-id-2 div.sk-estimator:hover {\n",
              "  /* unfitted */\n",
              "  background-color: var(--sklearn-color-unfitted-level-2);\n",
              "}\n",
              "\n",
              "#sk-container-id-2 div.sk-estimator.fitted:hover {\n",
              "  /* fitted */\n",
              "  background-color: var(--sklearn-color-fitted-level-2);\n",
              "}\n",
              "\n",
              "/* Specification for estimator info (e.g. \"i\" and \"?\") */\n",
              "\n",
              "/* Common style for \"i\" and \"?\" */\n",
              "\n",
              ".sk-estimator-doc-link,\n",
              "a:link.sk-estimator-doc-link,\n",
              "a:visited.sk-estimator-doc-link {\n",
              "  float: right;\n",
              "  font-size: smaller;\n",
              "  line-height: 1em;\n",
              "  font-family: monospace;\n",
              "  background-color: var(--sklearn-color-background);\n",
              "  border-radius: 1em;\n",
              "  height: 1em;\n",
              "  width: 1em;\n",
              "  text-decoration: none !important;\n",
              "  margin-left: 1ex;\n",
              "  /* unfitted */\n",
              "  border: var(--sklearn-color-unfitted-level-1) 1pt solid;\n",
              "  color: var(--sklearn-color-unfitted-level-1);\n",
              "}\n",
              "\n",
              ".sk-estimator-doc-link.fitted,\n",
              "a:link.sk-estimator-doc-link.fitted,\n",
              "a:visited.sk-estimator-doc-link.fitted {\n",
              "  /* fitted */\n",
              "  border: var(--sklearn-color-fitted-level-1) 1pt solid;\n",
              "  color: var(--sklearn-color-fitted-level-1);\n",
              "}\n",
              "\n",
              "/* On hover */\n",
              "div.sk-estimator:hover .sk-estimator-doc-link:hover,\n",
              ".sk-estimator-doc-link:hover,\n",
              "div.sk-label-container:hover .sk-estimator-doc-link:hover,\n",
              ".sk-estimator-doc-link:hover {\n",
              "  /* unfitted */\n",
              "  background-color: var(--sklearn-color-unfitted-level-3);\n",
              "  color: var(--sklearn-color-background);\n",
              "  text-decoration: none;\n",
              "}\n",
              "\n",
              "div.sk-estimator.fitted:hover .sk-estimator-doc-link.fitted:hover,\n",
              ".sk-estimator-doc-link.fitted:hover,\n",
              "div.sk-label-container:hover .sk-estimator-doc-link.fitted:hover,\n",
              ".sk-estimator-doc-link.fitted:hover {\n",
              "  /* fitted */\n",
              "  background-color: var(--sklearn-color-fitted-level-3);\n",
              "  color: var(--sklearn-color-background);\n",
              "  text-decoration: none;\n",
              "}\n",
              "\n",
              "/* Span, style for the box shown on hovering the info icon */\n",
              ".sk-estimator-doc-link span {\n",
              "  display: none;\n",
              "  z-index: 9999;\n",
              "  position: relative;\n",
              "  font-weight: normal;\n",
              "  right: .2ex;\n",
              "  padding: .5ex;\n",
              "  margin: .5ex;\n",
              "  width: min-content;\n",
              "  min-width: 20ex;\n",
              "  max-width: 50ex;\n",
              "  color: var(--sklearn-color-text);\n",
              "  box-shadow: 2pt 2pt 4pt #999;\n",
              "  /* unfitted */\n",
              "  background: var(--sklearn-color-unfitted-level-0);\n",
              "  border: .5pt solid var(--sklearn-color-unfitted-level-3);\n",
              "}\n",
              "\n",
              ".sk-estimator-doc-link.fitted span {\n",
              "  /* fitted */\n",
              "  background: var(--sklearn-color-fitted-level-0);\n",
              "  border: var(--sklearn-color-fitted-level-3);\n",
              "}\n",
              "\n",
              ".sk-estimator-doc-link:hover span {\n",
              "  display: block;\n",
              "}\n",
              "\n",
              "/* \"?\"-specific style due to the `<a>` HTML tag */\n",
              "\n",
              "#sk-container-id-2 a.estimator_doc_link {\n",
              "  float: right;\n",
              "  font-size: 1rem;\n",
              "  line-height: 1em;\n",
              "  font-family: monospace;\n",
              "  background-color: var(--sklearn-color-background);\n",
              "  border-radius: 1rem;\n",
              "  height: 1rem;\n",
              "  width: 1rem;\n",
              "  text-decoration: none;\n",
              "  /* unfitted */\n",
              "  color: var(--sklearn-color-unfitted-level-1);\n",
              "  border: var(--sklearn-color-unfitted-level-1) 1pt solid;\n",
              "}\n",
              "\n",
              "#sk-container-id-2 a.estimator_doc_link.fitted {\n",
              "  /* fitted */\n",
              "  border: var(--sklearn-color-fitted-level-1) 1pt solid;\n",
              "  color: var(--sklearn-color-fitted-level-1);\n",
              "}\n",
              "\n",
              "/* On hover */\n",
              "#sk-container-id-2 a.estimator_doc_link:hover {\n",
              "  /* unfitted */\n",
              "  background-color: var(--sklearn-color-unfitted-level-3);\n",
              "  color: var(--sklearn-color-background);\n",
              "  text-decoration: none;\n",
              "}\n",
              "\n",
              "#sk-container-id-2 a.estimator_doc_link.fitted:hover {\n",
              "  /* fitted */\n",
              "  background-color: var(--sklearn-color-fitted-level-3);\n",
              "}\n",
              "</style><div id=\"sk-container-id-2\" class=\"sk-top-container\"><div class=\"sk-text-repr-fallback\"><pre>KNeighborsClassifier(n_neighbors=3)</pre><b>In a Jupyter environment, please rerun this cell to show the HTML representation or trust the notebook. <br />On GitHub, the HTML representation is unable to render, please try loading this page with nbviewer.org.</b></div><div class=\"sk-container\" hidden><div class=\"sk-item\"><div class=\"sk-estimator fitted sk-toggleable\"><input class=\"sk-toggleable__control sk-hidden--visually\" id=\"sk-estimator-id-2\" type=\"checkbox\" checked><label for=\"sk-estimator-id-2\" class=\"sk-toggleable__label fitted sk-toggleable__label-arrow fitted\">&nbsp;&nbsp;KNeighborsClassifier<a class=\"sk-estimator-doc-link fitted\" rel=\"noreferrer\" target=\"_blank\" href=\"https://scikit-learn.org/1.4/modules/generated/sklearn.neighbors.KNeighborsClassifier.html\">?<span>Documentation for KNeighborsClassifier</span></a><span class=\"sk-estimator-doc-link fitted\">i<span>Fitted</span></span></label><div class=\"sk-toggleable__content fitted\"><pre>KNeighborsClassifier(n_neighbors=3)</pre></div> </div></div></div></div>"
            ],
            "text/plain": [
              "KNeighborsClassifier(n_neighbors=3)"
            ]
          },
          "execution_count": 35,
          "metadata": {},
          "output_type": "execute_result"
        }
      ],
      "source": [
        "knn.fit(X_train_scaled, y_train)"
      ]
    },
    {
      "cell_type": "markdown",
      "metadata": {
        "id": "sirTTgahrmVF"
      },
      "source": [
        "## 3.8 Prediction using the Trained Model"
      ]
    },
    {
      "cell_type": "markdown",
      "metadata": {
        "id": "Gsqw36myrmVF"
      },
      "source": [
        "``KNeighborsClassifier`` is a predictor (implements the ``predict()`` method). Here we use this method to make prediction on a new data point. Suppose we have the following data point measured in the original scales as in the original training data:"
      ]
    },
    {
      "cell_type": "code",
      "execution_count": null,
      "metadata": {
        "id": "pX3cKO0TrmVF",
        "outputId": "291f7fed-c69b-4593-8683-0ea0d40f6805"
      },
      "outputs": [
        {
          "data": {
            "text/plain": [
              "(1, 4)"
            ]
          },
          "execution_count": 36,
          "metadata": {},
          "output_type": "execute_result"
        }
      ],
      "source": [
        "x_test = np.array([[5.5, 2, 1.1, 0.6]]) # you could also write: np.array([5.5, 2, 1.1, 0.6]).reshape(1,4)\n",
        "x_test.shape"
      ]
    },
    {
      "cell_type": "markdown",
      "metadata": {
        "id": "TqmLQBQkrmVG"
      },
      "source": [
        "As we said before, scikit-learn always assumes two-dimensional NumPy arrays of shape sample size $\\times$ feature size; this is the reason in the code above the test point ``x_test`` is placed in a two-dimensional NumPy array of shape ``(1, 4)``. However, before making prediction, we need to scale the test data using the same statistics used to scale the training data; afterall, the ``knn`` classifier was trained on scaled data:"
      ]
    },
    {
      "cell_type": "code",
      "execution_count": null,
      "metadata": {
        "id": "HXW2UJRbrmVG",
        "outputId": "c081ea15-94eb-4fac-a413-4e5be8719584"
      },
      "outputs": [
        {
          "data": {
            "text/plain": [
              "array([[-0.45404756, -2.53437275, -1.50320017, -0.79582245]])"
            ]
          },
          "execution_count": 37,
          "metadata": {},
          "output_type": "execute_result"
        }
      ],
      "source": [
        "x_test_scaled = scaler.transform(x_test)\n",
        "x_test_scaled"
      ]
    },
    {
      "cell_type": "code",
      "execution_count": null,
      "metadata": {
        "id": "USc6_4r7rmVG",
        "outputId": "a9732532-fc6c-46d6-8787-5291f8357029"
      },
      "outputs": [
        {
          "name": "stdout",
          "output_type": "stream",
          "text": [
            "knn predicts: ['versicolor']\n"
          ]
        }
      ],
      "source": [
        "y_test_prediction = knn.predict(x_test_scaled)\n",
        "print('knn predicts: ' + str(iris.target_names[y_test_prediction])) # to convert the prediction (y_test_prediction) to the names of Iris flower"
      ]
    },
    {
      "cell_type": "markdown",
      "metadata": {
        "id": "-bRq5hrcrmVG"
      },
      "source": [
        "We can also give a number of samples as the argument to the ``predict()`` method in which case we recieve the classification results for them all:"
      ]
    },
    {
      "cell_type": "code",
      "execution_count": null,
      "metadata": {
        "id": "p5ZSp7X1rmVG",
        "outputId": "c6e3f24f-1496-4bb6-8007-ff9d4e770fd3"
      },
      "outputs": [
        {
          "name": "stdout",
          "output_type": "stream",
          "text": [
            "knn predicts: ['versicolor' 'versicolor' 'versicolor' 'virginica' 'setosa' 'virginica'\n",
            " 'versicolor' 'setosa' 'versicolor' 'versicolor' 'versicolor' 'virginica'\n",
            " 'virginica' 'setosa' 'virginica' 'setosa' 'setosa' 'versicolor' 'setosa'\n",
            " 'virginica' 'setosa' 'versicolor' 'versicolor' 'setosa' 'versicolor'\n",
            " 'setosa' 'setosa' 'versicolor' 'virginica' 'versicolor']\n"
          ]
        }
      ],
      "source": [
        "y_test_predictions = knn.predict(X_test_scaled)\n",
        "print('knn predicts: ' + str(iris.target_names[y_test_predictions])) # see fancy indexing in Section 2.1.4\n"
      ]
    },
    {
      "cell_type": "markdown",
      "metadata": {
        "id": "kAjmM0xzrmVG"
      },
      "source": [
        "<img align=\"left\" src=\"images/tip.png\" alt=\"drawing\" width=\"140\"/><br>\n",
        "\n",
        "Note that the above instantiating the class KNN, fitting, and predicting can be combined as the following one liner pattern known as *method chaining*; however, for now we generally present them separatly to facilitate understanding different steps:"
      ]
    },
    {
      "cell_type": "code",
      "execution_count": null,
      "metadata": {
        "id": "zWleBoNWrmVG",
        "outputId": "1b9c3dba-8e1e-477b-d0fa-0cd025a4e294"
      },
      "outputs": [
        {
          "name": "stdout",
          "output_type": "stream",
          "text": [
            "knn predicts: ['versicolor' 'versicolor' 'versicolor' 'virginica' 'setosa' 'virginica'\n",
            " 'versicolor' 'setosa' 'versicolor' 'versicolor' 'versicolor' 'virginica'\n",
            " 'virginica' 'setosa' 'virginica' 'setosa' 'setosa' 'versicolor' 'setosa'\n",
            " 'virginica' 'setosa' 'versicolor' 'versicolor' 'setosa' 'versicolor'\n",
            " 'setosa' 'setosa' 'versicolor' 'virginica' 'versicolor']\n"
          ]
        }
      ],
      "source": [
        "y_test_predictions = KNN(n_neighbors=3).fit(X_train_scaled, y_train).predict(X_test_scaled)\n",
        "print('knn predicts: ' + str(iris.target_names[y_test_predictions]))"
      ]
    },
    {
      "cell_type": "markdown",
      "metadata": {
        "id": "dkjM2evGrmVG"
      },
      "source": [
        "## 3.9 Model Assessment (Error Estimation)"
      ]
    },
    {
      "cell_type": "markdown",
      "metadata": {
        "id": "tf1sOuINrmVG"
      },
      "source": [
        "There are various rules and metrics to assess the performance of a classifier. Here we describe the simplest and perhaps the most intuitive one; that is, how bad the classifier performs on a test set. To quantify the performance of the classifier, we just calculate the proportion of misclassified observations in the holdout set (recall that we already have the actual labels for these observations). This proportion is indeed an estimate of *misclassification error rate* (also simply referred to as the error rate), which is defined as *the probability of misclassifying a future (unseen) observation by the trained classifier*."
      ]
    },
    {
      "cell_type": "markdown",
      "metadata": {
        "id": "ZZpaGBevrmVG"
      },
      "source": [
        "\\begin{align}\n",
        "{\\varepsilon} = P(\\text{the}\\;\\text{trained}\\;\\text{classifier}\\;\\text{misclassifies}\\;\\mathbf{X})\\quad\\quad (1)\n",
        "\\end{align}"
      ]
    },
    {
      "cell_type": "markdown",
      "metadata": {
        "id": "i0_CGjCurmVG"
      },
      "source": [
        "And the *test-set error estimator* to estimate the error rate of the classifier is"
      ]
    },
    {
      "cell_type": "markdown",
      "metadata": {
        "id": "ajmqGdXqrmVG"
      },
      "source": [
        "\\begin{align}\n",
        "\\hat{\\varepsilon}_{te} = \\frac{k}{m} \\qquad\\qquad\\qquad\\qquad\\qquad(2)\n",
        "\\end{align}"
      ]
    },
    {
      "cell_type": "markdown",
      "metadata": {
        "id": "ku986pRVrmVG"
      },
      "source": [
        "where $m$ and $K$ are the size of test set and the number of observations in test set that are misclassified by the classifier, respectively."
      ]
    },
    {
      "cell_type": "markdown",
      "metadata": {
        "id": "XTRa8NqErmVG"
      },
      "source": [
        "The *accuracy* and *test-set accuracy estimate* are:\n",
        "\n",
        "\\begin{align}\n",
        "\\text{acc} = 1 - {\\varepsilon}\\\\\n",
        "\\hat{\\text{acc}}_{h} = 1 - \\hat{\\varepsilon}_{te}\n",
        "\\end{align}"
      ]
    },
    {
      "cell_type": "markdown",
      "metadata": {
        "id": "bK2LP8cIrmVG"
      },
      "source": [
        "Let's find the test-set error estimate:"
      ]
    },
    {
      "cell_type": "code",
      "execution_count": null,
      "metadata": {
        "id": "rhUq3SdDrmVG",
        "outputId": "4d96b2ef-3e75-4bdd-a28e-fdc4a410db09"
      },
      "outputs": [
        {
          "data": {
            "text/plain": [
              "array([False, False,  True, False, False, False, False, False, False,\n",
              "       False, False, False, False, False, False, False, False, False,\n",
              "       False, False, False, False, False, False,  True, False, False,\n",
              "        True, False, False])"
            ]
          },
          "execution_count": 41,
          "metadata": {},
          "output_type": "execute_result"
        }
      ],
      "source": [
        "errors = (y_test_predictions != y_test)\n",
        "errors"
      ]
    },
    {
      "cell_type": "code",
      "execution_count": null,
      "metadata": {
        "id": "EnQgsKCjrmVH",
        "outputId": "faa38f12-9141-4b2d-ee55-54f360c10b3b"
      },
      "outputs": [
        {
          "name": "stdout",
          "output_type": "stream",
          "text": [
            "The (holdout estimate of) error rate is: 0.10\n",
            "The accuracy is: 0.90\n"
          ]
        }
      ],
      "source": [
        "error_est = sum(errors)/errors.size\n",
        "print('The (holdout estimate of) error rate is: {:.2f}'.format(error_est) + '\\n'\\\n",
        "      'The accuracy is: {:.2f}'.format(1-error_est))"
      ]
    },
    {
      "cell_type": "markdown",
      "metadata": {
        "id": "_khU8nujrmVH"
      },
      "source": [
        "In the above code, we use the place holder { } and format specifier 0.2f to specify the number of digits after decimal point. The \":\" before .2f separates the format specifier from the rest of the replacement field (if any option is set) within the { }."
      ]
    },
    {
      "cell_type": "markdown",
      "metadata": {
        "id": "ckIGQSC4rmVH"
      },
      "source": [
        "To estimate the accuracy, we can use the ``accuracy_score`` function (from ``metrics`` module) that expects the actual labels and predicted labels as arguments:\n",
        "\n",
        "https://scikit-learn.org/0.15/modules/generated/sklearn.metrics.accuracy_score.html#sklearn.metrics.accuracy_score"
      ]
    },
    {
      "cell_type": "code",
      "execution_count": null,
      "metadata": {
        "id": "tqvVOokermVH",
        "outputId": "02acf3a0-8a31-4e42-8cba-4015240721c9"
      },
      "outputs": [
        {
          "name": "stdout",
          "output_type": "stream",
          "text": [
            "The test accuracy is 0.90\n"
          ]
        }
      ],
      "source": [
        "from sklearn.metrics import accuracy_score\n",
        "print('The test accuracy is {:.2f}'.format(accuracy_score(y_test, y_test_predictions)))"
      ]
    },
    {
      "cell_type": "markdown",
      "metadata": {
        "id": "2nFDQBFhrmVH"
      },
      "source": [
        "All classifiers in scikit-learn also have a ``score`` method that given a test data and its labels, returns the classifier accuracy. For example, see the documentation of ``score`` method at:\n",
        "https://scikit-learn.org/stable/modules/generated/sklearn.neighbors.KNeighborsClassifier.html\n",
        "\n",
        "Therefore, here we can also calculate the accuracy as follows:"
      ]
    },
    {
      "cell_type": "code",
      "execution_count": null,
      "metadata": {
        "id": "qEc3HYp0rmVH",
        "outputId": "55112069-f643-4fe6-8b0a-a191f96612bd"
      },
      "outputs": [
        {
          "name": "stdout",
          "output_type": "stream",
          "text": [
            "The test accuracy is 0.90\n"
          ]
        }
      ],
      "source": [
        "print('The test accuracy is {:.2f}'.format(knn.score(X_test_scaled, y_test)))"
      ]
    },
    {
      "cell_type": "markdown",
      "metadata": {
        "id": "fEvDrmWRrmVH"
      },
      "source": [
        "### Exercises 1, 2, 3 will be discussed in class"
      ]
    }
  ],
  "metadata": {
    "kernelspec": {
      "display_name": "Python 3 (ipykernel)",
      "language": "python",
      "name": "python3"
    },
    "language_info": {
      "codemirror_mode": {
        "name": "ipython",
        "version": 3
      },
      "file_extension": ".py",
      "mimetype": "text/x-python",
      "name": "python",
      "nbconvert_exporter": "python",
      "pygments_lexer": "ipython3",
      "version": "3.11.5"
    },
    "varInspector": {
      "cols": {
        "lenName": 16,
        "lenType": 16,
        "lenVar": 40
      },
      "kernels_config": {
        "python": {
          "delete_cmd_postfix": "",
          "delete_cmd_prefix": "del ",
          "library": "var_list.py",
          "varRefreshCmd": "print(var_dic_list())"
        },
        "r": {
          "delete_cmd_postfix": ") ",
          "delete_cmd_prefix": "rm(",
          "library": "var_list.r",
          "varRefreshCmd": "cat(var_dic_list()) "
        }
      },
      "types_to_exclude": [
        "module",
        "function",
        "builtin_function_or_method",
        "instance",
        "_Feature"
      ],
      "window_display": false
    },
    "colab": {
      "provenance": [],
      "include_colab_link": true
    }
  },
  "nbformat": 4,
  "nbformat_minor": 0
}